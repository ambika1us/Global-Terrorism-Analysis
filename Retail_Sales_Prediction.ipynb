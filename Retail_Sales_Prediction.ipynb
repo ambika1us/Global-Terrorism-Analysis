{
  "nbformat": 4,
  "nbformat_minor": 0,
  "metadata": {
    "colab": {
      "provenance": [],
      "authorship_tag": "ABX9TyPTm4Ffhn28KF8WFtO4j1e0",
      "include_colab_link": true
    },
    "kernelspec": {
      "name": "python3",
      "display_name": "Python 3"
    },
    "language_info": {
      "name": "python"
    }
  },
  "cells": [
    {
      "cell_type": "markdown",
      "metadata": {
        "id": "view-in-github",
        "colab_type": "text"
      },
      "source": [
        "<a href=\"https://colab.research.google.com/github/ambika1us/Global-Terrorism-Analysis/blob/main/Retail_Sales_Prediction.ipynb\" target=\"_parent\"><img src=\"https://colab.research.google.com/assets/colab-badge.svg\" alt=\"Open In Colab\"/></a>"
      ]
    },
    {
      "cell_type": "markdown",
      "source": [
        "<B><H1>Project Title: Sales Prediction: Predicting sales of a store chain Rossmann</B></H1>"
      ],
      "metadata": {
        "id": "rj000EsT7wc4"
      }
    },
    {
      "cell_type": "markdown",
      "source": [
        "<B>Problem Description</B>\n",
        "<P>Rossmann operates over 3000 drug store in 7 European countries. Currently, Rossmann store managers are tasked with predicting their daily sales for up to six weeks in advance, store sales are influenced by many factors including promotions, competition, school and state holidays, seasonality and locality, With thousands of individual managers predicting sales based on their unique circumstances, the accuracy of results can be quite varied.</P>\n",
        "<P>You are provided with historical sales data for 1115 Rossmann stores. The task is to forecast the \"Sales\" column for the test set. Note that some stores in the dataset were temporarily closed for refurbisment</P>\n"
      ],
      "metadata": {
        "id": "QKskHfCt8WP4"
      }
    },
    {
      "cell_type": "markdown",
      "source": [
        "<P><B>Data Description</B></P>\n",
        "<P><LI>Rossmann Store Data.csv - Historical data including Sales</LI><LI>store.csv - supplemental information about the store</LI></P>"
      ],
      "metadata": {
        "id": "xiuIe0F_Cn9h"
      }
    },
    {
      "cell_type": "markdown",
      "source": [
        "<P>Data Fields</P>\n",
        "<P>Most of the fields are self-explanatory</P>\n",
        "<LI><b>id: </b>an Id that represent a duple within the set</LI>\n",
        "<LI><b>Store: </b>a unique Id for each store</LI>\n",
        "<LI><b>Sales: </b>the turnover for any given day</LI>\n",
        "<LI><b>Customers: </b>the number of customers on a given day</LI>\n",
        "<LI><b>Open: </b>an indicator for whether the store was open. 0=Closed 1=Open</LI>\n",
        "<LI><b>StateHoliday: </b>indicates a state holiday. Normally all stores, with few exceptions are closed on state holidays Note all school are closed on public holiday and weekends. a=public holiday, b=easter holiday, c=christmas, 0=none</LI>\n",
        "<LI><b>SchoolHoliday: </b>indicates if the store was affected by the closure of public schools</LI>\n",
        "<LI><b>StoreType: </b>differentiatesbetween 4 different store models a,b,c,d</LI>\n",
        "<LI><b>Assortment: </b>descibes an assortment level, a=basic, b=extra, c=extended, An assortmet strategy in retailing involves the number and type of products that store display for purchase by customer</LI>\n",
        "<LI><b>CompetitionDistance: </b>distance in meters to the nearest competitor store</LI>\n",
        "<LI><b>CompetitionOpenSince: </b>given the approximate year and month of the time the nearest competitor was opened</LI>\n",
        "<LI><b>Promo: </b>indicates whether a store is running a promo on that day</LI>\n",
        "<LI><b>Promo2: </b>promo2 is a continuing and consecutive promotion for some stores, 0=store is not participating, 1=store is participating</LI>\n",
        "<LI><b>Promo2Since: </b>describes the year and calendar week when the store started participating in promo2</LI>\n",
        "<LI><b>PromoInterval: </b>describe the consecutive interval promo2 is started naming the months the promotion is started a new</LI>"
      ],
      "metadata": {
        "id": "zgHtHaBxDQm6"
      }
    },
    {
      "cell_type": "markdown",
      "source": [
        "<p><b>Business Problem</b></p>\n",
        "<p>The interest in a product continues to change occasionally. No business can work on its monetary growth without assessing client interest and future demand of items precisely sales forecasting refers to the process of estimating demand for or sales of a particular product over a specific period of time. This project involves solving a real-world business problem of sales forecasting and building up a machine learning model for the same</p>\n",
        "<p>Our goal here is to forecast the sales for six weeks for each store and find out the factors influencing it and recommend ways in order to improve the numbers.</p>"
      ],
      "metadata": {
        "id": "WoXzekcv3dbE"
      }
    },
    {
      "cell_type": "markdown",
      "source": [
        "<p><b>Approach</b></p>\n",
        "<li>Business Problem</li>\n",
        "<li>Data Collection and Preprocessing</li>\n",
        "<li>Exploratory Data Analysis</li>\n",
        "<li>Feature selection and outlier detection</li>\n",
        "<li>Modeling</li>\n",
        "<li>Model Performance and Evaluation</li>\n",
        "<li>Storewise sale predicting</li>\n",
        "<li>Conclusion and Recommendations</li>"
      ],
      "metadata": {
        "id": "sqX-7ZhK666k"
      }
    },
    {
      "cell_type": "code",
      "source": [],
      "metadata": {
        "id": "Z7vj1cm58uEB"
      },
      "execution_count": null,
      "outputs": []
    }
  ]
}