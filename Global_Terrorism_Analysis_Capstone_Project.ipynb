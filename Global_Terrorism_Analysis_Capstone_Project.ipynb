{
  "nbformat": 4,
  "nbformat_minor": 0,
  "metadata": {
    "kernelspec": {
      "display_name": "Python 3",
      "language": "python",
      "name": "python3"
    },
    "language_info": {
      "codemirror_mode": {
        "name": "ipython",
        "version": 3
      },
      "file_extension": ".py",
      "mimetype": "text/x-python",
      "name": "python",
      "nbconvert_exporter": "python",
      "pygments_lexer": "ipython3",
      "version": "3.6.6"
    },
    "colab": {
      "provenance": [],
      "include_colab_link": true
    }
  },
  "cells": [
    {
      "cell_type": "markdown",
      "metadata": {
        "id": "view-in-github",
        "colab_type": "text"
      },
      "source": [
        "<a href=\"https://colab.research.google.com/github/ambika1us/Global-Terrorism-Analysis/blob/main/Global_Terrorism_Analysis_Capstone_Project.ipynb\" target=\"_parent\"><img src=\"https://colab.research.google.com/assets/colab-badge.svg\" alt=\"Open In Colab\"/></a>"
      ]
    },
    {
      "cell_type": "markdown",
      "metadata": {
        "id": "Y06xIdG26kRF"
      },
      "source": [
        "## <b> The Global Terrorism Database (GTD) is an open-source database including information on terrorist attacks around the world from 1970 through 2017. The GTD includes systematic data on domestic as well as international terrorist incidents that have occurred during this time period and now includes more than 180,000 attacks. The database is maintained by researchers at the National Consortium for the Study of Terrorism and Responses to Terrorism (START), headquartered at the University of Maryland.</b>\n",
        "\n",
        "# <b> Explore and analyze the data to discover key findings pertaining to terrorist activities. </b>"
      ]
    },
    {
      "cell_type": "markdown",
      "source": [
        "<B>Working with Dataset</B>"
      ],
      "metadata": {
        "id": "vtba2cZuQWuu"
      }
    },
    {
      "cell_type": "code",
      "metadata": {
        "id": "dByMsuzT8Tnw",
        "colab": {
          "base_uri": "https://localhost:8080/"
        },
        "outputId": "6878369e-7ae4-49b1-cdd1-83c301a9843c"
      },
      "source": [
        "#Let's start by importing some required libraries\n",
        "import numpy as np\n",
        "import pandas as pd\n",
        "import matplotlib.pyplot as plt\n",
        "import matplotlib.ticker as mtick\n",
        "import seaborn as sns\n",
        "import warnings\n",
        "warnings.filterwarnings(\"ignore\")\n",
        "%matplotlib inline\n",
        "\n",
        "from google.colab import drive\n",
        "drive.mount('/content/drive')"
      ],
      "execution_count": 1,
      "outputs": [
        {
          "output_type": "stream",
          "name": "stdout",
          "text": [
            "Mounted at /content/drive\n"
          ]
        }
      ]
    },
    {
      "cell_type": "markdown",
      "source": [
        "Both matplotlib and seaborn are very popular libraries that are used for visualizations. Import warning and see it to ignore to just ignore all the warnings.<BR>\n",
        "Now import the dataset using read_csv"
      ],
      "metadata": {
        "id": "d_W-lWyeRD9i"
      }
    },
    {
      "cell_type": "code",
      "source": [
        "#import terrorism dataset\n",
        "terr_data=pd.read_csv('/content/drive/MyDrive/AlmaBetter/EDA_Project_1/Global Terrorism Data Analysis/Global Terrorism Data.csv',encoding='ISO-8859-1')"
      ],
      "metadata": {
        "id": "xJb2Ucf8RbDz"
      },
      "execution_count": 2,
      "outputs": []
    },
    {
      "cell_type": "code",
      "source": [
        "#View the dataset\n",
        "terr_data"
      ],
      "metadata": {
        "colab": {
          "base_uri": "https://localhost:8080/",
          "height": 922
        },
        "id": "wRJZqzrEW6K5",
        "outputId": "00b2203d-617c-46ed-faf7-310bc3ae3f07"
      },
      "execution_count": 3,
      "outputs": [
        {
          "output_type": "execute_result",
          "data": {
            "text/plain": [
              "             eventid  iyear  imonth  iday approxdate  extended resolution  \\\n",
              "0       197000000001   1970       7     2        NaN         0        NaN   \n",
              "1       197000000002   1970       0     0        NaN         0        NaN   \n",
              "2       197001000001   1970       1     0        NaN         0        NaN   \n",
              "3       197001000002   1970       1     0        NaN         0        NaN   \n",
              "4       197001000003   1970       1     0        NaN         0        NaN   \n",
              "...              ...    ...     ...   ...        ...       ...        ...   \n",
              "181686  201712310022   2017      12    31        NaN         0        NaN   \n",
              "181687  201712310029   2017      12    31        NaN         0        NaN   \n",
              "181688  201712310030   2017      12    31        NaN         0        NaN   \n",
              "181689  201712310031   2017      12    31        NaN         0        NaN   \n",
              "181690  201712310032   2017      12    31        NaN         0        NaN   \n",
              "\n",
              "        country         country_txt  region  ... addnotes  \\\n",
              "0            58  Dominican Republic       2  ...      NaN   \n",
              "1           130              Mexico       1  ...      NaN   \n",
              "2           160         Philippines       5  ...      NaN   \n",
              "3            78              Greece       8  ...      NaN   \n",
              "4           101               Japan       4  ...      NaN   \n",
              "...         ...                 ...     ...  ...      ...   \n",
              "181686      182             Somalia      11  ...      NaN   \n",
              "181687      200               Syria      10  ...      NaN   \n",
              "181688      160         Philippines       5  ...      NaN   \n",
              "181689       92               India       6  ...      NaN   \n",
              "181690      160         Philippines       5  ...      NaN   \n",
              "\n",
              "                                                   scite1  \\\n",
              "0                                                     NaN   \n",
              "1                                                     NaN   \n",
              "2                                                     NaN   \n",
              "3                                                     NaN   \n",
              "4                                                     NaN   \n",
              "...                                                   ...   \n",
              "181686  \"Somalia: Al-Shabaab Militants Attack Army Che...   \n",
              "181687  \"Putin's 'victory' in Syria has turned into a ...   \n",
              "181688  \"Maguindanao clashes trap tribe members,\" Phil...   \n",
              "181689  \"Trader escapes grenade attack in Imphal,\" Bus...   \n",
              "181690  \"Security tightened in Cotabato following IED ...   \n",
              "\n",
              "                                                   scite2  \\\n",
              "0                                                     NaN   \n",
              "1                                                     NaN   \n",
              "2                                                     NaN   \n",
              "3                                                     NaN   \n",
              "4                                                     NaN   \n",
              "...                                                   ...   \n",
              "181686  \"Highlights: Somalia Daily Media Highlights 2 ...   \n",
              "181687  \"Two Russian soldiers killed at Hmeymim base i...   \n",
              "181688                                                NaN   \n",
              "181689                                                NaN   \n",
              "181690  \"Security tightened in Cotabato City,\" Manila ...   \n",
              "\n",
              "                                                   scite3  \\\n",
              "0                                                     NaN   \n",
              "1                                                     NaN   \n",
              "2                                                     NaN   \n",
              "3                                                     NaN   \n",
              "4                                                     NaN   \n",
              "...                                                   ...   \n",
              "181686  \"Highlights: Somalia Daily Media Highlights 1 ...   \n",
              "181687  \"Two Russian servicemen killed in Syria mortar...   \n",
              "181688                                                NaN   \n",
              "181689                                                NaN   \n",
              "181690                                                NaN   \n",
              "\n",
              "                        dbsource  INT_LOG  INT_IDEO INT_MISC INT_ANY  related  \n",
              "0                           PGIS        0         0        0       0      NaN  \n",
              "1                           PGIS        0         1        1       1      NaN  \n",
              "2                           PGIS       -9        -9        1       1      NaN  \n",
              "3                           PGIS       -9        -9        1       1      NaN  \n",
              "4                           PGIS       -9        -9        1       1      NaN  \n",
              "...                          ...      ...       ...      ...     ...      ...  \n",
              "181686  START Primary Collection        0         0        0       0      NaN  \n",
              "181687  START Primary Collection       -9        -9        1       1      NaN  \n",
              "181688  START Primary Collection        0         0        0       0      NaN  \n",
              "181689  START Primary Collection       -9        -9        0      -9      NaN  \n",
              "181690  START Primary Collection       -9        -9        0      -9      NaN  \n",
              "\n",
              "[181691 rows x 135 columns]"
            ],
            "text/html": [
              "\n",
              "  <div id=\"df-a0b23d9d-5427-46a1-b585-c07f335c3a33\">\n",
              "    <div class=\"colab-df-container\">\n",
              "      <div>\n",
              "<style scoped>\n",
              "    .dataframe tbody tr th:only-of-type {\n",
              "        vertical-align: middle;\n",
              "    }\n",
              "\n",
              "    .dataframe tbody tr th {\n",
              "        vertical-align: top;\n",
              "    }\n",
              "\n",
              "    .dataframe thead th {\n",
              "        text-align: right;\n",
              "    }\n",
              "</style>\n",
              "<table border=\"1\" class=\"dataframe\">\n",
              "  <thead>\n",
              "    <tr style=\"text-align: right;\">\n",
              "      <th></th>\n",
              "      <th>eventid</th>\n",
              "      <th>iyear</th>\n",
              "      <th>imonth</th>\n",
              "      <th>iday</th>\n",
              "      <th>approxdate</th>\n",
              "      <th>extended</th>\n",
              "      <th>resolution</th>\n",
              "      <th>country</th>\n",
              "      <th>country_txt</th>\n",
              "      <th>region</th>\n",
              "      <th>...</th>\n",
              "      <th>addnotes</th>\n",
              "      <th>scite1</th>\n",
              "      <th>scite2</th>\n",
              "      <th>scite3</th>\n",
              "      <th>dbsource</th>\n",
              "      <th>INT_LOG</th>\n",
              "      <th>INT_IDEO</th>\n",
              "      <th>INT_MISC</th>\n",
              "      <th>INT_ANY</th>\n",
              "      <th>related</th>\n",
              "    </tr>\n",
              "  </thead>\n",
              "  <tbody>\n",
              "    <tr>\n",
              "      <th>0</th>\n",
              "      <td>197000000001</td>\n",
              "      <td>1970</td>\n",
              "      <td>7</td>\n",
              "      <td>2</td>\n",
              "      <td>NaN</td>\n",
              "      <td>0</td>\n",
              "      <td>NaN</td>\n",
              "      <td>58</td>\n",
              "      <td>Dominican Republic</td>\n",
              "      <td>2</td>\n",
              "      <td>...</td>\n",
              "      <td>NaN</td>\n",
              "      <td>NaN</td>\n",
              "      <td>NaN</td>\n",
              "      <td>NaN</td>\n",
              "      <td>PGIS</td>\n",
              "      <td>0</td>\n",
              "      <td>0</td>\n",
              "      <td>0</td>\n",
              "      <td>0</td>\n",
              "      <td>NaN</td>\n",
              "    </tr>\n",
              "    <tr>\n",
              "      <th>1</th>\n",
              "      <td>197000000002</td>\n",
              "      <td>1970</td>\n",
              "      <td>0</td>\n",
              "      <td>0</td>\n",
              "      <td>NaN</td>\n",
              "      <td>0</td>\n",
              "      <td>NaN</td>\n",
              "      <td>130</td>\n",
              "      <td>Mexico</td>\n",
              "      <td>1</td>\n",
              "      <td>...</td>\n",
              "      <td>NaN</td>\n",
              "      <td>NaN</td>\n",
              "      <td>NaN</td>\n",
              "      <td>NaN</td>\n",
              "      <td>PGIS</td>\n",
              "      <td>0</td>\n",
              "      <td>1</td>\n",
              "      <td>1</td>\n",
              "      <td>1</td>\n",
              "      <td>NaN</td>\n",
              "    </tr>\n",
              "    <tr>\n",
              "      <th>2</th>\n",
              "      <td>197001000001</td>\n",
              "      <td>1970</td>\n",
              "      <td>1</td>\n",
              "      <td>0</td>\n",
              "      <td>NaN</td>\n",
              "      <td>0</td>\n",
              "      <td>NaN</td>\n",
              "      <td>160</td>\n",
              "      <td>Philippines</td>\n",
              "      <td>5</td>\n",
              "      <td>...</td>\n",
              "      <td>NaN</td>\n",
              "      <td>NaN</td>\n",
              "      <td>NaN</td>\n",
              "      <td>NaN</td>\n",
              "      <td>PGIS</td>\n",
              "      <td>-9</td>\n",
              "      <td>-9</td>\n",
              "      <td>1</td>\n",
              "      <td>1</td>\n",
              "      <td>NaN</td>\n",
              "    </tr>\n",
              "    <tr>\n",
              "      <th>3</th>\n",
              "      <td>197001000002</td>\n",
              "      <td>1970</td>\n",
              "      <td>1</td>\n",
              "      <td>0</td>\n",
              "      <td>NaN</td>\n",
              "      <td>0</td>\n",
              "      <td>NaN</td>\n",
              "      <td>78</td>\n",
              "      <td>Greece</td>\n",
              "      <td>8</td>\n",
              "      <td>...</td>\n",
              "      <td>NaN</td>\n",
              "      <td>NaN</td>\n",
              "      <td>NaN</td>\n",
              "      <td>NaN</td>\n",
              "      <td>PGIS</td>\n",
              "      <td>-9</td>\n",
              "      <td>-9</td>\n",
              "      <td>1</td>\n",
              "      <td>1</td>\n",
              "      <td>NaN</td>\n",
              "    </tr>\n",
              "    <tr>\n",
              "      <th>4</th>\n",
              "      <td>197001000003</td>\n",
              "      <td>1970</td>\n",
              "      <td>1</td>\n",
              "      <td>0</td>\n",
              "      <td>NaN</td>\n",
              "      <td>0</td>\n",
              "      <td>NaN</td>\n",
              "      <td>101</td>\n",
              "      <td>Japan</td>\n",
              "      <td>4</td>\n",
              "      <td>...</td>\n",
              "      <td>NaN</td>\n",
              "      <td>NaN</td>\n",
              "      <td>NaN</td>\n",
              "      <td>NaN</td>\n",
              "      <td>PGIS</td>\n",
              "      <td>-9</td>\n",
              "      <td>-9</td>\n",
              "      <td>1</td>\n",
              "      <td>1</td>\n",
              "      <td>NaN</td>\n",
              "    </tr>\n",
              "    <tr>\n",
              "      <th>...</th>\n",
              "      <td>...</td>\n",
              "      <td>...</td>\n",
              "      <td>...</td>\n",
              "      <td>...</td>\n",
              "      <td>...</td>\n",
              "      <td>...</td>\n",
              "      <td>...</td>\n",
              "      <td>...</td>\n",
              "      <td>...</td>\n",
              "      <td>...</td>\n",
              "      <td>...</td>\n",
              "      <td>...</td>\n",
              "      <td>...</td>\n",
              "      <td>...</td>\n",
              "      <td>...</td>\n",
              "      <td>...</td>\n",
              "      <td>...</td>\n",
              "      <td>...</td>\n",
              "      <td>...</td>\n",
              "      <td>...</td>\n",
              "      <td>...</td>\n",
              "    </tr>\n",
              "    <tr>\n",
              "      <th>181686</th>\n",
              "      <td>201712310022</td>\n",
              "      <td>2017</td>\n",
              "      <td>12</td>\n",
              "      <td>31</td>\n",
              "      <td>NaN</td>\n",
              "      <td>0</td>\n",
              "      <td>NaN</td>\n",
              "      <td>182</td>\n",
              "      <td>Somalia</td>\n",
              "      <td>11</td>\n",
              "      <td>...</td>\n",
              "      <td>NaN</td>\n",
              "      <td>\"Somalia: Al-Shabaab Militants Attack Army Che...</td>\n",
              "      <td>\"Highlights: Somalia Daily Media Highlights 2 ...</td>\n",
              "      <td>\"Highlights: Somalia Daily Media Highlights 1 ...</td>\n",
              "      <td>START Primary Collection</td>\n",
              "      <td>0</td>\n",
              "      <td>0</td>\n",
              "      <td>0</td>\n",
              "      <td>0</td>\n",
              "      <td>NaN</td>\n",
              "    </tr>\n",
              "    <tr>\n",
              "      <th>181687</th>\n",
              "      <td>201712310029</td>\n",
              "      <td>2017</td>\n",
              "      <td>12</td>\n",
              "      <td>31</td>\n",
              "      <td>NaN</td>\n",
              "      <td>0</td>\n",
              "      <td>NaN</td>\n",
              "      <td>200</td>\n",
              "      <td>Syria</td>\n",
              "      <td>10</td>\n",
              "      <td>...</td>\n",
              "      <td>NaN</td>\n",
              "      <td>\"Putin's 'victory' in Syria has turned into a ...</td>\n",
              "      <td>\"Two Russian soldiers killed at Hmeymim base i...</td>\n",
              "      <td>\"Two Russian servicemen killed in Syria mortar...</td>\n",
              "      <td>START Primary Collection</td>\n",
              "      <td>-9</td>\n",
              "      <td>-9</td>\n",
              "      <td>1</td>\n",
              "      <td>1</td>\n",
              "      <td>NaN</td>\n",
              "    </tr>\n",
              "    <tr>\n",
              "      <th>181688</th>\n",
              "      <td>201712310030</td>\n",
              "      <td>2017</td>\n",
              "      <td>12</td>\n",
              "      <td>31</td>\n",
              "      <td>NaN</td>\n",
              "      <td>0</td>\n",
              "      <td>NaN</td>\n",
              "      <td>160</td>\n",
              "      <td>Philippines</td>\n",
              "      <td>5</td>\n",
              "      <td>...</td>\n",
              "      <td>NaN</td>\n",
              "      <td>\"Maguindanao clashes trap tribe members,\" Phil...</td>\n",
              "      <td>NaN</td>\n",
              "      <td>NaN</td>\n",
              "      <td>START Primary Collection</td>\n",
              "      <td>0</td>\n",
              "      <td>0</td>\n",
              "      <td>0</td>\n",
              "      <td>0</td>\n",
              "      <td>NaN</td>\n",
              "    </tr>\n",
              "    <tr>\n",
              "      <th>181689</th>\n",
              "      <td>201712310031</td>\n",
              "      <td>2017</td>\n",
              "      <td>12</td>\n",
              "      <td>31</td>\n",
              "      <td>NaN</td>\n",
              "      <td>0</td>\n",
              "      <td>NaN</td>\n",
              "      <td>92</td>\n",
              "      <td>India</td>\n",
              "      <td>6</td>\n",
              "      <td>...</td>\n",
              "      <td>NaN</td>\n",
              "      <td>\"Trader escapes grenade attack in Imphal,\" Bus...</td>\n",
              "      <td>NaN</td>\n",
              "      <td>NaN</td>\n",
              "      <td>START Primary Collection</td>\n",
              "      <td>-9</td>\n",
              "      <td>-9</td>\n",
              "      <td>0</td>\n",
              "      <td>-9</td>\n",
              "      <td>NaN</td>\n",
              "    </tr>\n",
              "    <tr>\n",
              "      <th>181690</th>\n",
              "      <td>201712310032</td>\n",
              "      <td>2017</td>\n",
              "      <td>12</td>\n",
              "      <td>31</td>\n",
              "      <td>NaN</td>\n",
              "      <td>0</td>\n",
              "      <td>NaN</td>\n",
              "      <td>160</td>\n",
              "      <td>Philippines</td>\n",
              "      <td>5</td>\n",
              "      <td>...</td>\n",
              "      <td>NaN</td>\n",
              "      <td>\"Security tightened in Cotabato following IED ...</td>\n",
              "      <td>\"Security tightened in Cotabato City,\" Manila ...</td>\n",
              "      <td>NaN</td>\n",
              "      <td>START Primary Collection</td>\n",
              "      <td>-9</td>\n",
              "      <td>-9</td>\n",
              "      <td>0</td>\n",
              "      <td>-9</td>\n",
              "      <td>NaN</td>\n",
              "    </tr>\n",
              "  </tbody>\n",
              "</table>\n",
              "<p>181691 rows × 135 columns</p>\n",
              "</div>\n",
              "      <button class=\"colab-df-convert\" onclick=\"convertToInteractive('df-a0b23d9d-5427-46a1-b585-c07f335c3a33')\"\n",
              "              title=\"Convert this dataframe to an interactive table.\"\n",
              "              style=\"display:none;\">\n",
              "        \n",
              "  <svg xmlns=\"http://www.w3.org/2000/svg\" height=\"24px\"viewBox=\"0 0 24 24\"\n",
              "       width=\"24px\">\n",
              "    <path d=\"M0 0h24v24H0V0z\" fill=\"none\"/>\n",
              "    <path d=\"M18.56 5.44l.94 2.06.94-2.06 2.06-.94-2.06-.94-.94-2.06-.94 2.06-2.06.94zm-11 1L8.5 8.5l.94-2.06 2.06-.94-2.06-.94L8.5 2.5l-.94 2.06-2.06.94zm10 10l.94 2.06.94-2.06 2.06-.94-2.06-.94-.94-2.06-.94 2.06-2.06.94z\"/><path d=\"M17.41 7.96l-1.37-1.37c-.4-.4-.92-.59-1.43-.59-.52 0-1.04.2-1.43.59L10.3 9.45l-7.72 7.72c-.78.78-.78 2.05 0 2.83L4 21.41c.39.39.9.59 1.41.59.51 0 1.02-.2 1.41-.59l7.78-7.78 2.81-2.81c.8-.78.8-2.07 0-2.86zM5.41 20L4 18.59l7.72-7.72 1.47 1.35L5.41 20z\"/>\n",
              "  </svg>\n",
              "      </button>\n",
              "      \n",
              "  <style>\n",
              "    .colab-df-container {\n",
              "      display:flex;\n",
              "      flex-wrap:wrap;\n",
              "      gap: 12px;\n",
              "    }\n",
              "\n",
              "    .colab-df-convert {\n",
              "      background-color: #E8F0FE;\n",
              "      border: none;\n",
              "      border-radius: 50%;\n",
              "      cursor: pointer;\n",
              "      display: none;\n",
              "      fill: #1967D2;\n",
              "      height: 32px;\n",
              "      padding: 0 0 0 0;\n",
              "      width: 32px;\n",
              "    }\n",
              "\n",
              "    .colab-df-convert:hover {\n",
              "      background-color: #E2EBFA;\n",
              "      box-shadow: 0px 1px 2px rgba(60, 64, 67, 0.3), 0px 1px 3px 1px rgba(60, 64, 67, 0.15);\n",
              "      fill: #174EA6;\n",
              "    }\n",
              "\n",
              "    [theme=dark] .colab-df-convert {\n",
              "      background-color: #3B4455;\n",
              "      fill: #D2E3FC;\n",
              "    }\n",
              "\n",
              "    [theme=dark] .colab-df-convert:hover {\n",
              "      background-color: #434B5C;\n",
              "      box-shadow: 0px 1px 3px 1px rgba(0, 0, 0, 0.15);\n",
              "      filter: drop-shadow(0px 1px 2px rgba(0, 0, 0, 0.3));\n",
              "      fill: #FFFFFF;\n",
              "    }\n",
              "  </style>\n",
              "\n",
              "      <script>\n",
              "        const buttonEl =\n",
              "          document.querySelector('#df-a0b23d9d-5427-46a1-b585-c07f335c3a33 button.colab-df-convert');\n",
              "        buttonEl.style.display =\n",
              "          google.colab.kernel.accessAllowed ? 'block' : 'none';\n",
              "\n",
              "        async function convertToInteractive(key) {\n",
              "          const element = document.querySelector('#df-a0b23d9d-5427-46a1-b585-c07f335c3a33');\n",
              "          const dataTable =\n",
              "            await google.colab.kernel.invokeFunction('convertToInteractive',\n",
              "                                                     [key], {});\n",
              "          if (!dataTable) return;\n",
              "\n",
              "          const docLinkHtml = 'Like what you see? Visit the ' +\n",
              "            '<a target=\"_blank\" href=https://colab.research.google.com/notebooks/data_table.ipynb>data table notebook</a>'\n",
              "            + ' to learn more about interactive tables.';\n",
              "          element.innerHTML = '';\n",
              "          dataTable['output_type'] = 'display_data';\n",
              "          await google.colab.output.renderOutput(dataTable, element);\n",
              "          const docLink = document.createElement('div');\n",
              "          docLink.innerHTML = docLinkHtml;\n",
              "          element.appendChild(docLink);\n",
              "        }\n",
              "      </script>\n",
              "    </div>\n",
              "  </div>\n",
              "  "
            ]
          },
          "metadata": {},
          "execution_count": 3
        }
      ]
    },
    {
      "cell_type": "code",
      "source": [
        "#Now view the shape\n",
        "print(\"There are {} rows and {} column in the dataset\".format(terr_data.shape[0],terr_data.shape[1]))"
      ],
      "metadata": {
        "colab": {
          "base_uri": "https://localhost:8080/"
        },
        "id": "7AOnYVifXBot",
        "outputId": "eb41ddc8-3e32-4d0c-f69a-72ae7199baa0"
      },
      "execution_count": 4,
      "outputs": [
        {
          "output_type": "stream",
          "name": "stdout",
          "text": [
            "There are 181691 rows and 135 column in the dataset\n"
          ]
        }
      ]
    },
    {
      "cell_type": "code",
      "source": [
        "#Now view all the columns in the data frame\n",
        "terr_data.columns"
      ],
      "metadata": {
        "colab": {
          "base_uri": "https://localhost:8080/"
        },
        "id": "cI2TQM9KXypn",
        "outputId": "47d611db-4d37-4295-f7be-6e206a597b1b"
      },
      "execution_count": 5,
      "outputs": [
        {
          "output_type": "execute_result",
          "data": {
            "text/plain": [
              "Index(['eventid', 'iyear', 'imonth', 'iday', 'approxdate', 'extended',\n",
              "       'resolution', 'country', 'country_txt', 'region',\n",
              "       ...\n",
              "       'addnotes', 'scite1', 'scite2', 'scite3', 'dbsource', 'INT_LOG',\n",
              "       'INT_IDEO', 'INT_MISC', 'INT_ANY', 'related'],\n",
              "      dtype='object', length=135)"
            ]
          },
          "metadata": {},
          "execution_count": 5
        }
      ]
    },
    {
      "cell_type": "code",
      "source": [
        "#View the total number of unique columns in the dataset\n",
        "no_of_cols=terr_data.columns.nunique()\n",
        "print(\"There are total %d columns in the data\" %no_of_cols)"
      ],
      "metadata": {
        "colab": {
          "base_uri": "https://localhost:8080/"
        },
        "id": "Op_E8LzSYAT8",
        "outputId": "a9826a8a-e6c3-4284-e79d-9f1f3e53f5de"
      },
      "execution_count": 6,
      "outputs": [
        {
          "output_type": "stream",
          "name": "stdout",
          "text": [
            "There are total 135 columns in the data\n"
          ]
        }
      ]
    },
    {
      "cell_type": "markdown",
      "source": [
        "<B>Rename some columns which we are going to use for analysis</B>"
      ],
      "metadata": {
        "id": "G6zm1-Y_Z2nv"
      }
    },
    {
      "cell_type": "code",
      "source": [
        "#let's rename some important columns\n",
        "terr_data=terr_data.rename(columns={'iyear':'Year','imonth':'Month','iday':'Day','country_txt':'Country','region_txt':'Region','provstate':'State',\n",
        "                                   'city':'City','attacktype1_txt':'Attack_type','targtype1_txt':'Target_type','targsubtype1_txt':'Target_subtype',\n",
        "                                   'gname':'Gang_name'})\n",
        "terr_data.columns"
      ],
      "metadata": {
        "colab": {
          "base_uri": "https://localhost:8080/"
        },
        "id": "yaFZfH6kZCP7",
        "outputId": "1ddf1335-a0ce-4f80-af36-607d06a644bb"
      },
      "execution_count": 7,
      "outputs": [
        {
          "output_type": "execute_result",
          "data": {
            "text/plain": [
              "Index(['eventid', 'Year', 'Month', 'Day', 'approxdate', 'extended',\n",
              "       'resolution', 'country', 'Country', 'region',\n",
              "       ...\n",
              "       'addnotes', 'scite1', 'scite2', 'scite3', 'dbsource', 'INT_LOG',\n",
              "       'INT_IDEO', 'INT_MISC', 'INT_ANY', 'related'],\n",
              "      dtype='object', length=135)"
            ]
          },
          "metadata": {},
          "execution_count": 7
        }
      ]
    },
    {
      "cell_type": "markdown",
      "source": [
        "<B>Check if the column names were updated.</B>"
      ],
      "metadata": {
        "id": "n21sxfEuizUu"
      }
    },
    {
      "cell_type": "code",
      "source": [
        "#Columns names were updated in this data frame\n",
        "terr_data"
      ],
      "metadata": {
        "colab": {
          "base_uri": "https://localhost:8080/",
          "height": 922
        },
        "id": "WTVLNKAVi7XA",
        "outputId": "e66442dd-b46e-4507-b694-29c2d3da6d2b"
      },
      "execution_count": 8,
      "outputs": [
        {
          "output_type": "execute_result",
          "data": {
            "text/plain": [
              "             eventid  Year  Month  Day approxdate  extended resolution  \\\n",
              "0       197000000001  1970      7    2        NaN         0        NaN   \n",
              "1       197000000002  1970      0    0        NaN         0        NaN   \n",
              "2       197001000001  1970      1    0        NaN         0        NaN   \n",
              "3       197001000002  1970      1    0        NaN         0        NaN   \n",
              "4       197001000003  1970      1    0        NaN         0        NaN   \n",
              "...              ...   ...    ...  ...        ...       ...        ...   \n",
              "181686  201712310022  2017     12   31        NaN         0        NaN   \n",
              "181687  201712310029  2017     12   31        NaN         0        NaN   \n",
              "181688  201712310030  2017     12   31        NaN         0        NaN   \n",
              "181689  201712310031  2017     12   31        NaN         0        NaN   \n",
              "181690  201712310032  2017     12   31        NaN         0        NaN   \n",
              "\n",
              "        country             Country  region  ... addnotes  \\\n",
              "0            58  Dominican Republic       2  ...      NaN   \n",
              "1           130              Mexico       1  ...      NaN   \n",
              "2           160         Philippines       5  ...      NaN   \n",
              "3            78              Greece       8  ...      NaN   \n",
              "4           101               Japan       4  ...      NaN   \n",
              "...         ...                 ...     ...  ...      ...   \n",
              "181686      182             Somalia      11  ...      NaN   \n",
              "181687      200               Syria      10  ...      NaN   \n",
              "181688      160         Philippines       5  ...      NaN   \n",
              "181689       92               India       6  ...      NaN   \n",
              "181690      160         Philippines       5  ...      NaN   \n",
              "\n",
              "                                                   scite1  \\\n",
              "0                                                     NaN   \n",
              "1                                                     NaN   \n",
              "2                                                     NaN   \n",
              "3                                                     NaN   \n",
              "4                                                     NaN   \n",
              "...                                                   ...   \n",
              "181686  \"Somalia: Al-Shabaab Militants Attack Army Che...   \n",
              "181687  \"Putin's 'victory' in Syria has turned into a ...   \n",
              "181688  \"Maguindanao clashes trap tribe members,\" Phil...   \n",
              "181689  \"Trader escapes grenade attack in Imphal,\" Bus...   \n",
              "181690  \"Security tightened in Cotabato following IED ...   \n",
              "\n",
              "                                                   scite2  \\\n",
              "0                                                     NaN   \n",
              "1                                                     NaN   \n",
              "2                                                     NaN   \n",
              "3                                                     NaN   \n",
              "4                                                     NaN   \n",
              "...                                                   ...   \n",
              "181686  \"Highlights: Somalia Daily Media Highlights 2 ...   \n",
              "181687  \"Two Russian soldiers killed at Hmeymim base i...   \n",
              "181688                                                NaN   \n",
              "181689                                                NaN   \n",
              "181690  \"Security tightened in Cotabato City,\" Manila ...   \n",
              "\n",
              "                                                   scite3  \\\n",
              "0                                                     NaN   \n",
              "1                                                     NaN   \n",
              "2                                                     NaN   \n",
              "3                                                     NaN   \n",
              "4                                                     NaN   \n",
              "...                                                   ...   \n",
              "181686  \"Highlights: Somalia Daily Media Highlights 1 ...   \n",
              "181687  \"Two Russian servicemen killed in Syria mortar...   \n",
              "181688                                                NaN   \n",
              "181689                                                NaN   \n",
              "181690                                                NaN   \n",
              "\n",
              "                        dbsource  INT_LOG  INT_IDEO INT_MISC INT_ANY  related  \n",
              "0                           PGIS        0         0        0       0      NaN  \n",
              "1                           PGIS        0         1        1       1      NaN  \n",
              "2                           PGIS       -9        -9        1       1      NaN  \n",
              "3                           PGIS       -9        -9        1       1      NaN  \n",
              "4                           PGIS       -9        -9        1       1      NaN  \n",
              "...                          ...      ...       ...      ...     ...      ...  \n",
              "181686  START Primary Collection        0         0        0       0      NaN  \n",
              "181687  START Primary Collection       -9        -9        1       1      NaN  \n",
              "181688  START Primary Collection        0         0        0       0      NaN  \n",
              "181689  START Primary Collection       -9        -9        0      -9      NaN  \n",
              "181690  START Primary Collection       -9        -9        0      -9      NaN  \n",
              "\n",
              "[181691 rows x 135 columns]"
            ],
            "text/html": [
              "\n",
              "  <div id=\"df-4ee70cb6-38d6-400b-8b22-042414c6d9fa\">\n",
              "    <div class=\"colab-df-container\">\n",
              "      <div>\n",
              "<style scoped>\n",
              "    .dataframe tbody tr th:only-of-type {\n",
              "        vertical-align: middle;\n",
              "    }\n",
              "\n",
              "    .dataframe tbody tr th {\n",
              "        vertical-align: top;\n",
              "    }\n",
              "\n",
              "    .dataframe thead th {\n",
              "        text-align: right;\n",
              "    }\n",
              "</style>\n",
              "<table border=\"1\" class=\"dataframe\">\n",
              "  <thead>\n",
              "    <tr style=\"text-align: right;\">\n",
              "      <th></th>\n",
              "      <th>eventid</th>\n",
              "      <th>Year</th>\n",
              "      <th>Month</th>\n",
              "      <th>Day</th>\n",
              "      <th>approxdate</th>\n",
              "      <th>extended</th>\n",
              "      <th>resolution</th>\n",
              "      <th>country</th>\n",
              "      <th>Country</th>\n",
              "      <th>region</th>\n",
              "      <th>...</th>\n",
              "      <th>addnotes</th>\n",
              "      <th>scite1</th>\n",
              "      <th>scite2</th>\n",
              "      <th>scite3</th>\n",
              "      <th>dbsource</th>\n",
              "      <th>INT_LOG</th>\n",
              "      <th>INT_IDEO</th>\n",
              "      <th>INT_MISC</th>\n",
              "      <th>INT_ANY</th>\n",
              "      <th>related</th>\n",
              "    </tr>\n",
              "  </thead>\n",
              "  <tbody>\n",
              "    <tr>\n",
              "      <th>0</th>\n",
              "      <td>197000000001</td>\n",
              "      <td>1970</td>\n",
              "      <td>7</td>\n",
              "      <td>2</td>\n",
              "      <td>NaN</td>\n",
              "      <td>0</td>\n",
              "      <td>NaN</td>\n",
              "      <td>58</td>\n",
              "      <td>Dominican Republic</td>\n",
              "      <td>2</td>\n",
              "      <td>...</td>\n",
              "      <td>NaN</td>\n",
              "      <td>NaN</td>\n",
              "      <td>NaN</td>\n",
              "      <td>NaN</td>\n",
              "      <td>PGIS</td>\n",
              "      <td>0</td>\n",
              "      <td>0</td>\n",
              "      <td>0</td>\n",
              "      <td>0</td>\n",
              "      <td>NaN</td>\n",
              "    </tr>\n",
              "    <tr>\n",
              "      <th>1</th>\n",
              "      <td>197000000002</td>\n",
              "      <td>1970</td>\n",
              "      <td>0</td>\n",
              "      <td>0</td>\n",
              "      <td>NaN</td>\n",
              "      <td>0</td>\n",
              "      <td>NaN</td>\n",
              "      <td>130</td>\n",
              "      <td>Mexico</td>\n",
              "      <td>1</td>\n",
              "      <td>...</td>\n",
              "      <td>NaN</td>\n",
              "      <td>NaN</td>\n",
              "      <td>NaN</td>\n",
              "      <td>NaN</td>\n",
              "      <td>PGIS</td>\n",
              "      <td>0</td>\n",
              "      <td>1</td>\n",
              "      <td>1</td>\n",
              "      <td>1</td>\n",
              "      <td>NaN</td>\n",
              "    </tr>\n",
              "    <tr>\n",
              "      <th>2</th>\n",
              "      <td>197001000001</td>\n",
              "      <td>1970</td>\n",
              "      <td>1</td>\n",
              "      <td>0</td>\n",
              "      <td>NaN</td>\n",
              "      <td>0</td>\n",
              "      <td>NaN</td>\n",
              "      <td>160</td>\n",
              "      <td>Philippines</td>\n",
              "      <td>5</td>\n",
              "      <td>...</td>\n",
              "      <td>NaN</td>\n",
              "      <td>NaN</td>\n",
              "      <td>NaN</td>\n",
              "      <td>NaN</td>\n",
              "      <td>PGIS</td>\n",
              "      <td>-9</td>\n",
              "      <td>-9</td>\n",
              "      <td>1</td>\n",
              "      <td>1</td>\n",
              "      <td>NaN</td>\n",
              "    </tr>\n",
              "    <tr>\n",
              "      <th>3</th>\n",
              "      <td>197001000002</td>\n",
              "      <td>1970</td>\n",
              "      <td>1</td>\n",
              "      <td>0</td>\n",
              "      <td>NaN</td>\n",
              "      <td>0</td>\n",
              "      <td>NaN</td>\n",
              "      <td>78</td>\n",
              "      <td>Greece</td>\n",
              "      <td>8</td>\n",
              "      <td>...</td>\n",
              "      <td>NaN</td>\n",
              "      <td>NaN</td>\n",
              "      <td>NaN</td>\n",
              "      <td>NaN</td>\n",
              "      <td>PGIS</td>\n",
              "      <td>-9</td>\n",
              "      <td>-9</td>\n",
              "      <td>1</td>\n",
              "      <td>1</td>\n",
              "      <td>NaN</td>\n",
              "    </tr>\n",
              "    <tr>\n",
              "      <th>4</th>\n",
              "      <td>197001000003</td>\n",
              "      <td>1970</td>\n",
              "      <td>1</td>\n",
              "      <td>0</td>\n",
              "      <td>NaN</td>\n",
              "      <td>0</td>\n",
              "      <td>NaN</td>\n",
              "      <td>101</td>\n",
              "      <td>Japan</td>\n",
              "      <td>4</td>\n",
              "      <td>...</td>\n",
              "      <td>NaN</td>\n",
              "      <td>NaN</td>\n",
              "      <td>NaN</td>\n",
              "      <td>NaN</td>\n",
              "      <td>PGIS</td>\n",
              "      <td>-9</td>\n",
              "      <td>-9</td>\n",
              "      <td>1</td>\n",
              "      <td>1</td>\n",
              "      <td>NaN</td>\n",
              "    </tr>\n",
              "    <tr>\n",
              "      <th>...</th>\n",
              "      <td>...</td>\n",
              "      <td>...</td>\n",
              "      <td>...</td>\n",
              "      <td>...</td>\n",
              "      <td>...</td>\n",
              "      <td>...</td>\n",
              "      <td>...</td>\n",
              "      <td>...</td>\n",
              "      <td>...</td>\n",
              "      <td>...</td>\n",
              "      <td>...</td>\n",
              "      <td>...</td>\n",
              "      <td>...</td>\n",
              "      <td>...</td>\n",
              "      <td>...</td>\n",
              "      <td>...</td>\n",
              "      <td>...</td>\n",
              "      <td>...</td>\n",
              "      <td>...</td>\n",
              "      <td>...</td>\n",
              "      <td>...</td>\n",
              "    </tr>\n",
              "    <tr>\n",
              "      <th>181686</th>\n",
              "      <td>201712310022</td>\n",
              "      <td>2017</td>\n",
              "      <td>12</td>\n",
              "      <td>31</td>\n",
              "      <td>NaN</td>\n",
              "      <td>0</td>\n",
              "      <td>NaN</td>\n",
              "      <td>182</td>\n",
              "      <td>Somalia</td>\n",
              "      <td>11</td>\n",
              "      <td>...</td>\n",
              "      <td>NaN</td>\n",
              "      <td>\"Somalia: Al-Shabaab Militants Attack Army Che...</td>\n",
              "      <td>\"Highlights: Somalia Daily Media Highlights 2 ...</td>\n",
              "      <td>\"Highlights: Somalia Daily Media Highlights 1 ...</td>\n",
              "      <td>START Primary Collection</td>\n",
              "      <td>0</td>\n",
              "      <td>0</td>\n",
              "      <td>0</td>\n",
              "      <td>0</td>\n",
              "      <td>NaN</td>\n",
              "    </tr>\n",
              "    <tr>\n",
              "      <th>181687</th>\n",
              "      <td>201712310029</td>\n",
              "      <td>2017</td>\n",
              "      <td>12</td>\n",
              "      <td>31</td>\n",
              "      <td>NaN</td>\n",
              "      <td>0</td>\n",
              "      <td>NaN</td>\n",
              "      <td>200</td>\n",
              "      <td>Syria</td>\n",
              "      <td>10</td>\n",
              "      <td>...</td>\n",
              "      <td>NaN</td>\n",
              "      <td>\"Putin's 'victory' in Syria has turned into a ...</td>\n",
              "      <td>\"Two Russian soldiers killed at Hmeymim base i...</td>\n",
              "      <td>\"Two Russian servicemen killed in Syria mortar...</td>\n",
              "      <td>START Primary Collection</td>\n",
              "      <td>-9</td>\n",
              "      <td>-9</td>\n",
              "      <td>1</td>\n",
              "      <td>1</td>\n",
              "      <td>NaN</td>\n",
              "    </tr>\n",
              "    <tr>\n",
              "      <th>181688</th>\n",
              "      <td>201712310030</td>\n",
              "      <td>2017</td>\n",
              "      <td>12</td>\n",
              "      <td>31</td>\n",
              "      <td>NaN</td>\n",
              "      <td>0</td>\n",
              "      <td>NaN</td>\n",
              "      <td>160</td>\n",
              "      <td>Philippines</td>\n",
              "      <td>5</td>\n",
              "      <td>...</td>\n",
              "      <td>NaN</td>\n",
              "      <td>\"Maguindanao clashes trap tribe members,\" Phil...</td>\n",
              "      <td>NaN</td>\n",
              "      <td>NaN</td>\n",
              "      <td>START Primary Collection</td>\n",
              "      <td>0</td>\n",
              "      <td>0</td>\n",
              "      <td>0</td>\n",
              "      <td>0</td>\n",
              "      <td>NaN</td>\n",
              "    </tr>\n",
              "    <tr>\n",
              "      <th>181689</th>\n",
              "      <td>201712310031</td>\n",
              "      <td>2017</td>\n",
              "      <td>12</td>\n",
              "      <td>31</td>\n",
              "      <td>NaN</td>\n",
              "      <td>0</td>\n",
              "      <td>NaN</td>\n",
              "      <td>92</td>\n",
              "      <td>India</td>\n",
              "      <td>6</td>\n",
              "      <td>...</td>\n",
              "      <td>NaN</td>\n",
              "      <td>\"Trader escapes grenade attack in Imphal,\" Bus...</td>\n",
              "      <td>NaN</td>\n",
              "      <td>NaN</td>\n",
              "      <td>START Primary Collection</td>\n",
              "      <td>-9</td>\n",
              "      <td>-9</td>\n",
              "      <td>0</td>\n",
              "      <td>-9</td>\n",
              "      <td>NaN</td>\n",
              "    </tr>\n",
              "    <tr>\n",
              "      <th>181690</th>\n",
              "      <td>201712310032</td>\n",
              "      <td>2017</td>\n",
              "      <td>12</td>\n",
              "      <td>31</td>\n",
              "      <td>NaN</td>\n",
              "      <td>0</td>\n",
              "      <td>NaN</td>\n",
              "      <td>160</td>\n",
              "      <td>Philippines</td>\n",
              "      <td>5</td>\n",
              "      <td>...</td>\n",
              "      <td>NaN</td>\n",
              "      <td>\"Security tightened in Cotabato following IED ...</td>\n",
              "      <td>\"Security tightened in Cotabato City,\" Manila ...</td>\n",
              "      <td>NaN</td>\n",
              "      <td>START Primary Collection</td>\n",
              "      <td>-9</td>\n",
              "      <td>-9</td>\n",
              "      <td>0</td>\n",
              "      <td>-9</td>\n",
              "      <td>NaN</td>\n",
              "    </tr>\n",
              "  </tbody>\n",
              "</table>\n",
              "<p>181691 rows × 135 columns</p>\n",
              "</div>\n",
              "      <button class=\"colab-df-convert\" onclick=\"convertToInteractive('df-4ee70cb6-38d6-400b-8b22-042414c6d9fa')\"\n",
              "              title=\"Convert this dataframe to an interactive table.\"\n",
              "              style=\"display:none;\">\n",
              "        \n",
              "  <svg xmlns=\"http://www.w3.org/2000/svg\" height=\"24px\"viewBox=\"0 0 24 24\"\n",
              "       width=\"24px\">\n",
              "    <path d=\"M0 0h24v24H0V0z\" fill=\"none\"/>\n",
              "    <path d=\"M18.56 5.44l.94 2.06.94-2.06 2.06-.94-2.06-.94-.94-2.06-.94 2.06-2.06.94zm-11 1L8.5 8.5l.94-2.06 2.06-.94-2.06-.94L8.5 2.5l-.94 2.06-2.06.94zm10 10l.94 2.06.94-2.06 2.06-.94-2.06-.94-.94-2.06-.94 2.06-2.06.94z\"/><path d=\"M17.41 7.96l-1.37-1.37c-.4-.4-.92-.59-1.43-.59-.52 0-1.04.2-1.43.59L10.3 9.45l-7.72 7.72c-.78.78-.78 2.05 0 2.83L4 21.41c.39.39.9.59 1.41.59.51 0 1.02-.2 1.41-.59l7.78-7.78 2.81-2.81c.8-.78.8-2.07 0-2.86zM5.41 20L4 18.59l7.72-7.72 1.47 1.35L5.41 20z\"/>\n",
              "  </svg>\n",
              "      </button>\n",
              "      \n",
              "  <style>\n",
              "    .colab-df-container {\n",
              "      display:flex;\n",
              "      flex-wrap:wrap;\n",
              "      gap: 12px;\n",
              "    }\n",
              "\n",
              "    .colab-df-convert {\n",
              "      background-color: #E8F0FE;\n",
              "      border: none;\n",
              "      border-radius: 50%;\n",
              "      cursor: pointer;\n",
              "      display: none;\n",
              "      fill: #1967D2;\n",
              "      height: 32px;\n",
              "      padding: 0 0 0 0;\n",
              "      width: 32px;\n",
              "    }\n",
              "\n",
              "    .colab-df-convert:hover {\n",
              "      background-color: #E2EBFA;\n",
              "      box-shadow: 0px 1px 2px rgba(60, 64, 67, 0.3), 0px 1px 3px 1px rgba(60, 64, 67, 0.15);\n",
              "      fill: #174EA6;\n",
              "    }\n",
              "\n",
              "    [theme=dark] .colab-df-convert {\n",
              "      background-color: #3B4455;\n",
              "      fill: #D2E3FC;\n",
              "    }\n",
              "\n",
              "    [theme=dark] .colab-df-convert:hover {\n",
              "      background-color: #434B5C;\n",
              "      box-shadow: 0px 1px 3px 1px rgba(0, 0, 0, 0.15);\n",
              "      filter: drop-shadow(0px 1px 2px rgba(0, 0, 0, 0.3));\n",
              "      fill: #FFFFFF;\n",
              "    }\n",
              "  </style>\n",
              "\n",
              "      <script>\n",
              "        const buttonEl =\n",
              "          document.querySelector('#df-4ee70cb6-38d6-400b-8b22-042414c6d9fa button.colab-df-convert');\n",
              "        buttonEl.style.display =\n",
              "          google.colab.kernel.accessAllowed ? 'block' : 'none';\n",
              "\n",
              "        async function convertToInteractive(key) {\n",
              "          const element = document.querySelector('#df-4ee70cb6-38d6-400b-8b22-042414c6d9fa');\n",
              "          const dataTable =\n",
              "            await google.colab.kernel.invokeFunction('convertToInteractive',\n",
              "                                                     [key], {});\n",
              "          if (!dataTable) return;\n",
              "\n",
              "          const docLinkHtml = 'Like what you see? Visit the ' +\n",
              "            '<a target=\"_blank\" href=https://colab.research.google.com/notebooks/data_table.ipynb>data table notebook</a>'\n",
              "            + ' to learn more about interactive tables.';\n",
              "          element.innerHTML = '';\n",
              "          dataTable['output_type'] = 'display_data';\n",
              "          await google.colab.output.renderOutput(dataTable, element);\n",
              "          const docLink = document.createElement('div');\n",
              "          docLink.innerHTML = docLinkHtml;\n",
              "          element.appendChild(docLink);\n",
              "        }\n",
              "      </script>\n",
              "    </div>\n",
              "  </div>\n",
              "  "
            ]
          },
          "metadata": {},
          "execution_count": 8
        }
      ]
    },
    {
      "cell_type": "markdown",
      "source": [
        "<B>Now take only those columns which are required for analysis in the dataset</b>"
      ],
      "metadata": {
        "id": "D_OwcB1wjeUD"
      }
    },
    {
      "cell_type": "code",
      "source": [
        "terr_data=terr_data[['Year','Month','Day','Country','Region','State','City','Attack_type','Target_type','Target_subtype','Gang_name']]\n",
        "terr_data.columns\n",
        "#Check if it's updated"
      ],
      "metadata": {
        "colab": {
          "base_uri": "https://localhost:8080/"
        },
        "id": "zBlgaI_ul1Fa",
        "outputId": "40e281c3-c7e2-4551-8652-2a95bd5bed7d"
      },
      "execution_count": 9,
      "outputs": [
        {
          "output_type": "execute_result",
          "data": {
            "text/plain": [
              "Index(['Year', 'Month', 'Day', 'Country', 'Region', 'State', 'City',\n",
              "       'Attack_type', 'Target_type', 'Target_subtype', 'Gang_name'],\n",
              "      dtype='object')"
            ]
          },
          "metadata": {},
          "execution_count": 9
        }
      ]
    },
    {
      "cell_type": "code",
      "source": [
        "#Our new dataframe\n",
        "terr_data"
      ],
      "metadata": {
        "colab": {
          "base_uri": "https://localhost:8080/",
          "height": 711
        },
        "id": "8PLdb0vSXX-c",
        "outputId": "8ee16368-9fae-4ebe-d66b-1a9b46079aea"
      },
      "execution_count": 10,
      "outputs": [
        {
          "output_type": "execute_result",
          "data": {
            "text/plain": [
              "        Year  Month  Day             Country                       Region  \\\n",
              "0       1970      7    2  Dominican Republic  Central America & Caribbean   \n",
              "1       1970      0    0              Mexico                North America   \n",
              "2       1970      1    0         Philippines               Southeast Asia   \n",
              "3       1970      1    0              Greece               Western Europe   \n",
              "4       1970      1    0               Japan                    East Asia   \n",
              "...      ...    ...  ...                 ...                          ...   \n",
              "181686  2017     12   31             Somalia           Sub-Saharan Africa   \n",
              "181687  2017     12   31               Syria   Middle East & North Africa   \n",
              "181688  2017     12   31         Philippines               Southeast Asia   \n",
              "181689  2017     12   31               India                   South Asia   \n",
              "181690  2017     12   31         Philippines               Southeast Asia   \n",
              "\n",
              "                  State           City                     Attack_type  \\\n",
              "0                   NaN  Santo Domingo                   Assassination   \n",
              "1               Federal    Mexico city     Hostage Taking (Kidnapping)   \n",
              "2                Tarlac        Unknown                   Assassination   \n",
              "3                Attica         Athens               Bombing/Explosion   \n",
              "4               Fukouka        Fukouka  Facility/Infrastructure Attack   \n",
              "...                 ...            ...                             ...   \n",
              "181686  Middle Shebelle  Ceelka Geelow                   Armed Assault   \n",
              "181687         Lattakia         Jableh               Bombing/Explosion   \n",
              "181688      Maguindanao       Kubentog  Facility/Infrastructure Attack   \n",
              "181689          Manipur         Imphal               Bombing/Explosion   \n",
              "181690      Maguindanao  Cotabato City               Bombing/Explosion   \n",
              "\n",
              "                        Target_type  \\\n",
              "0       Private Citizens & Property   \n",
              "1           Government (Diplomatic)   \n",
              "2               Journalists & Media   \n",
              "3           Government (Diplomatic)   \n",
              "4           Government (Diplomatic)   \n",
              "...                             ...   \n",
              "181686                     Military   \n",
              "181687                     Military   \n",
              "181688  Private Citizens & Property   \n",
              "181689         Government (General)   \n",
              "181690                      Unknown   \n",
              "\n",
              "                                           Target_subtype  \\\n",
              "0                                          Named Civilian   \n",
              "1       Diplomatic Personnel (outside of embassy, cons...   \n",
              "2                         Radio Journalist/Staff/Facility   \n",
              "3                                       Embassy/Consulate   \n",
              "4                                       Embassy/Consulate   \n",
              "...                                                   ...   \n",
              "181686                                Military Checkpoint   \n",
              "181687      Military Barracks/Base/Headquarters/Checkpost   \n",
              "181688                          House/Apartment/Residence   \n",
              "181689                Government Building/Facility/Office   \n",
              "181690                                                NaN   \n",
              "\n",
              "                                         Gang_name  \n",
              "0                                           MANO-D  \n",
              "1               23rd of September Communist League  \n",
              "2                                          Unknown  \n",
              "3                                          Unknown  \n",
              "4                                          Unknown  \n",
              "...                                            ...  \n",
              "181686                                  Al-Shabaab  \n",
              "181687                           Muslim extremists  \n",
              "181688  Bangsamoro Islamic Freedom Movement (BIFM)  \n",
              "181689                                     Unknown  \n",
              "181690                                     Unknown  \n",
              "\n",
              "[181691 rows x 11 columns]"
            ],
            "text/html": [
              "\n",
              "  <div id=\"df-77ad1ec4-77f5-46da-8862-6df2814850de\">\n",
              "    <div class=\"colab-df-container\">\n",
              "      <div>\n",
              "<style scoped>\n",
              "    .dataframe tbody tr th:only-of-type {\n",
              "        vertical-align: middle;\n",
              "    }\n",
              "\n",
              "    .dataframe tbody tr th {\n",
              "        vertical-align: top;\n",
              "    }\n",
              "\n",
              "    .dataframe thead th {\n",
              "        text-align: right;\n",
              "    }\n",
              "</style>\n",
              "<table border=\"1\" class=\"dataframe\">\n",
              "  <thead>\n",
              "    <tr style=\"text-align: right;\">\n",
              "      <th></th>\n",
              "      <th>Year</th>\n",
              "      <th>Month</th>\n",
              "      <th>Day</th>\n",
              "      <th>Country</th>\n",
              "      <th>Region</th>\n",
              "      <th>State</th>\n",
              "      <th>City</th>\n",
              "      <th>Attack_type</th>\n",
              "      <th>Target_type</th>\n",
              "      <th>Target_subtype</th>\n",
              "      <th>Gang_name</th>\n",
              "    </tr>\n",
              "  </thead>\n",
              "  <tbody>\n",
              "    <tr>\n",
              "      <th>0</th>\n",
              "      <td>1970</td>\n",
              "      <td>7</td>\n",
              "      <td>2</td>\n",
              "      <td>Dominican Republic</td>\n",
              "      <td>Central America &amp; Caribbean</td>\n",
              "      <td>NaN</td>\n",
              "      <td>Santo Domingo</td>\n",
              "      <td>Assassination</td>\n",
              "      <td>Private Citizens &amp; Property</td>\n",
              "      <td>Named Civilian</td>\n",
              "      <td>MANO-D</td>\n",
              "    </tr>\n",
              "    <tr>\n",
              "      <th>1</th>\n",
              "      <td>1970</td>\n",
              "      <td>0</td>\n",
              "      <td>0</td>\n",
              "      <td>Mexico</td>\n",
              "      <td>North America</td>\n",
              "      <td>Federal</td>\n",
              "      <td>Mexico city</td>\n",
              "      <td>Hostage Taking (Kidnapping)</td>\n",
              "      <td>Government (Diplomatic)</td>\n",
              "      <td>Diplomatic Personnel (outside of embassy, cons...</td>\n",
              "      <td>23rd of September Communist League</td>\n",
              "    </tr>\n",
              "    <tr>\n",
              "      <th>2</th>\n",
              "      <td>1970</td>\n",
              "      <td>1</td>\n",
              "      <td>0</td>\n",
              "      <td>Philippines</td>\n",
              "      <td>Southeast Asia</td>\n",
              "      <td>Tarlac</td>\n",
              "      <td>Unknown</td>\n",
              "      <td>Assassination</td>\n",
              "      <td>Journalists &amp; Media</td>\n",
              "      <td>Radio Journalist/Staff/Facility</td>\n",
              "      <td>Unknown</td>\n",
              "    </tr>\n",
              "    <tr>\n",
              "      <th>3</th>\n",
              "      <td>1970</td>\n",
              "      <td>1</td>\n",
              "      <td>0</td>\n",
              "      <td>Greece</td>\n",
              "      <td>Western Europe</td>\n",
              "      <td>Attica</td>\n",
              "      <td>Athens</td>\n",
              "      <td>Bombing/Explosion</td>\n",
              "      <td>Government (Diplomatic)</td>\n",
              "      <td>Embassy/Consulate</td>\n",
              "      <td>Unknown</td>\n",
              "    </tr>\n",
              "    <tr>\n",
              "      <th>4</th>\n",
              "      <td>1970</td>\n",
              "      <td>1</td>\n",
              "      <td>0</td>\n",
              "      <td>Japan</td>\n",
              "      <td>East Asia</td>\n",
              "      <td>Fukouka</td>\n",
              "      <td>Fukouka</td>\n",
              "      <td>Facility/Infrastructure Attack</td>\n",
              "      <td>Government (Diplomatic)</td>\n",
              "      <td>Embassy/Consulate</td>\n",
              "      <td>Unknown</td>\n",
              "    </tr>\n",
              "    <tr>\n",
              "      <th>...</th>\n",
              "      <td>...</td>\n",
              "      <td>...</td>\n",
              "      <td>...</td>\n",
              "      <td>...</td>\n",
              "      <td>...</td>\n",
              "      <td>...</td>\n",
              "      <td>...</td>\n",
              "      <td>...</td>\n",
              "      <td>...</td>\n",
              "      <td>...</td>\n",
              "      <td>...</td>\n",
              "    </tr>\n",
              "    <tr>\n",
              "      <th>181686</th>\n",
              "      <td>2017</td>\n",
              "      <td>12</td>\n",
              "      <td>31</td>\n",
              "      <td>Somalia</td>\n",
              "      <td>Sub-Saharan Africa</td>\n",
              "      <td>Middle Shebelle</td>\n",
              "      <td>Ceelka Geelow</td>\n",
              "      <td>Armed Assault</td>\n",
              "      <td>Military</td>\n",
              "      <td>Military Checkpoint</td>\n",
              "      <td>Al-Shabaab</td>\n",
              "    </tr>\n",
              "    <tr>\n",
              "      <th>181687</th>\n",
              "      <td>2017</td>\n",
              "      <td>12</td>\n",
              "      <td>31</td>\n",
              "      <td>Syria</td>\n",
              "      <td>Middle East &amp; North Africa</td>\n",
              "      <td>Lattakia</td>\n",
              "      <td>Jableh</td>\n",
              "      <td>Bombing/Explosion</td>\n",
              "      <td>Military</td>\n",
              "      <td>Military Barracks/Base/Headquarters/Checkpost</td>\n",
              "      <td>Muslim extremists</td>\n",
              "    </tr>\n",
              "    <tr>\n",
              "      <th>181688</th>\n",
              "      <td>2017</td>\n",
              "      <td>12</td>\n",
              "      <td>31</td>\n",
              "      <td>Philippines</td>\n",
              "      <td>Southeast Asia</td>\n",
              "      <td>Maguindanao</td>\n",
              "      <td>Kubentog</td>\n",
              "      <td>Facility/Infrastructure Attack</td>\n",
              "      <td>Private Citizens &amp; Property</td>\n",
              "      <td>House/Apartment/Residence</td>\n",
              "      <td>Bangsamoro Islamic Freedom Movement (BIFM)</td>\n",
              "    </tr>\n",
              "    <tr>\n",
              "      <th>181689</th>\n",
              "      <td>2017</td>\n",
              "      <td>12</td>\n",
              "      <td>31</td>\n",
              "      <td>India</td>\n",
              "      <td>South Asia</td>\n",
              "      <td>Manipur</td>\n",
              "      <td>Imphal</td>\n",
              "      <td>Bombing/Explosion</td>\n",
              "      <td>Government (General)</td>\n",
              "      <td>Government Building/Facility/Office</td>\n",
              "      <td>Unknown</td>\n",
              "    </tr>\n",
              "    <tr>\n",
              "      <th>181690</th>\n",
              "      <td>2017</td>\n",
              "      <td>12</td>\n",
              "      <td>31</td>\n",
              "      <td>Philippines</td>\n",
              "      <td>Southeast Asia</td>\n",
              "      <td>Maguindanao</td>\n",
              "      <td>Cotabato City</td>\n",
              "      <td>Bombing/Explosion</td>\n",
              "      <td>Unknown</td>\n",
              "      <td>NaN</td>\n",
              "      <td>Unknown</td>\n",
              "    </tr>\n",
              "  </tbody>\n",
              "</table>\n",
              "<p>181691 rows × 11 columns</p>\n",
              "</div>\n",
              "      <button class=\"colab-df-convert\" onclick=\"convertToInteractive('df-77ad1ec4-77f5-46da-8862-6df2814850de')\"\n",
              "              title=\"Convert this dataframe to an interactive table.\"\n",
              "              style=\"display:none;\">\n",
              "        \n",
              "  <svg xmlns=\"http://www.w3.org/2000/svg\" height=\"24px\"viewBox=\"0 0 24 24\"\n",
              "       width=\"24px\">\n",
              "    <path d=\"M0 0h24v24H0V0z\" fill=\"none\"/>\n",
              "    <path d=\"M18.56 5.44l.94 2.06.94-2.06 2.06-.94-2.06-.94-.94-2.06-.94 2.06-2.06.94zm-11 1L8.5 8.5l.94-2.06 2.06-.94-2.06-.94L8.5 2.5l-.94 2.06-2.06.94zm10 10l.94 2.06.94-2.06 2.06-.94-2.06-.94-.94-2.06-.94 2.06-2.06.94z\"/><path d=\"M17.41 7.96l-1.37-1.37c-.4-.4-.92-.59-1.43-.59-.52 0-1.04.2-1.43.59L10.3 9.45l-7.72 7.72c-.78.78-.78 2.05 0 2.83L4 21.41c.39.39.9.59 1.41.59.51 0 1.02-.2 1.41-.59l7.78-7.78 2.81-2.81c.8-.78.8-2.07 0-2.86zM5.41 20L4 18.59l7.72-7.72 1.47 1.35L5.41 20z\"/>\n",
              "  </svg>\n",
              "      </button>\n",
              "      \n",
              "  <style>\n",
              "    .colab-df-container {\n",
              "      display:flex;\n",
              "      flex-wrap:wrap;\n",
              "      gap: 12px;\n",
              "    }\n",
              "\n",
              "    .colab-df-convert {\n",
              "      background-color: #E8F0FE;\n",
              "      border: none;\n",
              "      border-radius: 50%;\n",
              "      cursor: pointer;\n",
              "      display: none;\n",
              "      fill: #1967D2;\n",
              "      height: 32px;\n",
              "      padding: 0 0 0 0;\n",
              "      width: 32px;\n",
              "    }\n",
              "\n",
              "    .colab-df-convert:hover {\n",
              "      background-color: #E2EBFA;\n",
              "      box-shadow: 0px 1px 2px rgba(60, 64, 67, 0.3), 0px 1px 3px 1px rgba(60, 64, 67, 0.15);\n",
              "      fill: #174EA6;\n",
              "    }\n",
              "\n",
              "    [theme=dark] .colab-df-convert {\n",
              "      background-color: #3B4455;\n",
              "      fill: #D2E3FC;\n",
              "    }\n",
              "\n",
              "    [theme=dark] .colab-df-convert:hover {\n",
              "      background-color: #434B5C;\n",
              "      box-shadow: 0px 1px 3px 1px rgba(0, 0, 0, 0.15);\n",
              "      filter: drop-shadow(0px 1px 2px rgba(0, 0, 0, 0.3));\n",
              "      fill: #FFFFFF;\n",
              "    }\n",
              "  </style>\n",
              "\n",
              "      <script>\n",
              "        const buttonEl =\n",
              "          document.querySelector('#df-77ad1ec4-77f5-46da-8862-6df2814850de button.colab-df-convert');\n",
              "        buttonEl.style.display =\n",
              "          google.colab.kernel.accessAllowed ? 'block' : 'none';\n",
              "\n",
              "        async function convertToInteractive(key) {\n",
              "          const element = document.querySelector('#df-77ad1ec4-77f5-46da-8862-6df2814850de');\n",
              "          const dataTable =\n",
              "            await google.colab.kernel.invokeFunction('convertToInteractive',\n",
              "                                                     [key], {});\n",
              "          if (!dataTable) return;\n",
              "\n",
              "          const docLinkHtml = 'Like what you see? Visit the ' +\n",
              "            '<a target=\"_blank\" href=https://colab.research.google.com/notebooks/data_table.ipynb>data table notebook</a>'\n",
              "            + ' to learn more about interactive tables.';\n",
              "          element.innerHTML = '';\n",
              "          dataTable['output_type'] = 'display_data';\n",
              "          await google.colab.output.renderOutput(dataTable, element);\n",
              "          const docLink = document.createElement('div');\n",
              "          docLink.innerHTML = docLinkHtml;\n",
              "          element.appendChild(docLink);\n",
              "        }\n",
              "      </script>\n",
              "    </div>\n",
              "  </div>\n",
              "  "
            ]
          },
          "metadata": {},
          "execution_count": 10
        }
      ]
    },
    {
      "cell_type": "markdown",
      "source": [
        "<B>Now make some changes that are required for the dataset"
      ],
      "metadata": {
        "id": "kMorlWkcXeB1"
      }
    },
    {
      "cell_type": "code",
      "source": [
        "#Fill NaN values in Target_Subtype column as others\n",
        "terr_data['Target_subtype']=terr_data['Target_subtype'].fillna('others')"
      ],
      "metadata": {
        "id": "q9uoGHBXXli_"
      },
      "execution_count": 11,
      "outputs": []
    },
    {
      "cell_type": "code",
      "source": [
        "#Fill NaN values in the city column as Unknown\n",
        "terr_data['City']=terr_data['City'].fillna('Unknown')"
      ],
      "metadata": {
        "id": "4srnhSZ58Qpm"
      },
      "execution_count": 12,
      "outputs": []
    },
    {
      "cell_type": "code",
      "source": [
        "#Fill NaN values in the state column as Unknown\n",
        "terr_data['State']=terr_data['State'].fillna('Unknown')"
      ],
      "metadata": {
        "id": "h4Yw1NvV8nuJ"
      },
      "execution_count": 13,
      "outputs": []
    },
    {
      "cell_type": "code",
      "source": [
        "#This is our final update data frame\n",
        "terr_data"
      ],
      "metadata": {
        "colab": {
          "base_uri": "https://localhost:8080/",
          "height": 711
        },
        "id": "k-1XD2hH9BnU",
        "outputId": "674d0089-321a-4fb2-f3f6-b3a9ee606043"
      },
      "execution_count": 14,
      "outputs": [
        {
          "output_type": "execute_result",
          "data": {
            "text/plain": [
              "        Year  Month  Day             Country                       Region  \\\n",
              "0       1970      7    2  Dominican Republic  Central America & Caribbean   \n",
              "1       1970      0    0              Mexico                North America   \n",
              "2       1970      1    0         Philippines               Southeast Asia   \n",
              "3       1970      1    0              Greece               Western Europe   \n",
              "4       1970      1    0               Japan                    East Asia   \n",
              "...      ...    ...  ...                 ...                          ...   \n",
              "181686  2017     12   31             Somalia           Sub-Saharan Africa   \n",
              "181687  2017     12   31               Syria   Middle East & North Africa   \n",
              "181688  2017     12   31         Philippines               Southeast Asia   \n",
              "181689  2017     12   31               India                   South Asia   \n",
              "181690  2017     12   31         Philippines               Southeast Asia   \n",
              "\n",
              "                  State           City                     Attack_type  \\\n",
              "0               Unknown  Santo Domingo                   Assassination   \n",
              "1               Federal    Mexico city     Hostage Taking (Kidnapping)   \n",
              "2                Tarlac        Unknown                   Assassination   \n",
              "3                Attica         Athens               Bombing/Explosion   \n",
              "4               Fukouka        Fukouka  Facility/Infrastructure Attack   \n",
              "...                 ...            ...                             ...   \n",
              "181686  Middle Shebelle  Ceelka Geelow                   Armed Assault   \n",
              "181687         Lattakia         Jableh               Bombing/Explosion   \n",
              "181688      Maguindanao       Kubentog  Facility/Infrastructure Attack   \n",
              "181689          Manipur         Imphal               Bombing/Explosion   \n",
              "181690      Maguindanao  Cotabato City               Bombing/Explosion   \n",
              "\n",
              "                        Target_type  \\\n",
              "0       Private Citizens & Property   \n",
              "1           Government (Diplomatic)   \n",
              "2               Journalists & Media   \n",
              "3           Government (Diplomatic)   \n",
              "4           Government (Diplomatic)   \n",
              "...                             ...   \n",
              "181686                     Military   \n",
              "181687                     Military   \n",
              "181688  Private Citizens & Property   \n",
              "181689         Government (General)   \n",
              "181690                      Unknown   \n",
              "\n",
              "                                           Target_subtype  \\\n",
              "0                                          Named Civilian   \n",
              "1       Diplomatic Personnel (outside of embassy, cons...   \n",
              "2                         Radio Journalist/Staff/Facility   \n",
              "3                                       Embassy/Consulate   \n",
              "4                                       Embassy/Consulate   \n",
              "...                                                   ...   \n",
              "181686                                Military Checkpoint   \n",
              "181687      Military Barracks/Base/Headquarters/Checkpost   \n",
              "181688                          House/Apartment/Residence   \n",
              "181689                Government Building/Facility/Office   \n",
              "181690                                             others   \n",
              "\n",
              "                                         Gang_name  \n",
              "0                                           MANO-D  \n",
              "1               23rd of September Communist League  \n",
              "2                                          Unknown  \n",
              "3                                          Unknown  \n",
              "4                                          Unknown  \n",
              "...                                            ...  \n",
              "181686                                  Al-Shabaab  \n",
              "181687                           Muslim extremists  \n",
              "181688  Bangsamoro Islamic Freedom Movement (BIFM)  \n",
              "181689                                     Unknown  \n",
              "181690                                     Unknown  \n",
              "\n",
              "[181691 rows x 11 columns]"
            ],
            "text/html": [
              "\n",
              "  <div id=\"df-b1efb9af-99c9-48d0-9369-f0bb8b03850a\">\n",
              "    <div class=\"colab-df-container\">\n",
              "      <div>\n",
              "<style scoped>\n",
              "    .dataframe tbody tr th:only-of-type {\n",
              "        vertical-align: middle;\n",
              "    }\n",
              "\n",
              "    .dataframe tbody tr th {\n",
              "        vertical-align: top;\n",
              "    }\n",
              "\n",
              "    .dataframe thead th {\n",
              "        text-align: right;\n",
              "    }\n",
              "</style>\n",
              "<table border=\"1\" class=\"dataframe\">\n",
              "  <thead>\n",
              "    <tr style=\"text-align: right;\">\n",
              "      <th></th>\n",
              "      <th>Year</th>\n",
              "      <th>Month</th>\n",
              "      <th>Day</th>\n",
              "      <th>Country</th>\n",
              "      <th>Region</th>\n",
              "      <th>State</th>\n",
              "      <th>City</th>\n",
              "      <th>Attack_type</th>\n",
              "      <th>Target_type</th>\n",
              "      <th>Target_subtype</th>\n",
              "      <th>Gang_name</th>\n",
              "    </tr>\n",
              "  </thead>\n",
              "  <tbody>\n",
              "    <tr>\n",
              "      <th>0</th>\n",
              "      <td>1970</td>\n",
              "      <td>7</td>\n",
              "      <td>2</td>\n",
              "      <td>Dominican Republic</td>\n",
              "      <td>Central America &amp; Caribbean</td>\n",
              "      <td>Unknown</td>\n",
              "      <td>Santo Domingo</td>\n",
              "      <td>Assassination</td>\n",
              "      <td>Private Citizens &amp; Property</td>\n",
              "      <td>Named Civilian</td>\n",
              "      <td>MANO-D</td>\n",
              "    </tr>\n",
              "    <tr>\n",
              "      <th>1</th>\n",
              "      <td>1970</td>\n",
              "      <td>0</td>\n",
              "      <td>0</td>\n",
              "      <td>Mexico</td>\n",
              "      <td>North America</td>\n",
              "      <td>Federal</td>\n",
              "      <td>Mexico city</td>\n",
              "      <td>Hostage Taking (Kidnapping)</td>\n",
              "      <td>Government (Diplomatic)</td>\n",
              "      <td>Diplomatic Personnel (outside of embassy, cons...</td>\n",
              "      <td>23rd of September Communist League</td>\n",
              "    </tr>\n",
              "    <tr>\n",
              "      <th>2</th>\n",
              "      <td>1970</td>\n",
              "      <td>1</td>\n",
              "      <td>0</td>\n",
              "      <td>Philippines</td>\n",
              "      <td>Southeast Asia</td>\n",
              "      <td>Tarlac</td>\n",
              "      <td>Unknown</td>\n",
              "      <td>Assassination</td>\n",
              "      <td>Journalists &amp; Media</td>\n",
              "      <td>Radio Journalist/Staff/Facility</td>\n",
              "      <td>Unknown</td>\n",
              "    </tr>\n",
              "    <tr>\n",
              "      <th>3</th>\n",
              "      <td>1970</td>\n",
              "      <td>1</td>\n",
              "      <td>0</td>\n",
              "      <td>Greece</td>\n",
              "      <td>Western Europe</td>\n",
              "      <td>Attica</td>\n",
              "      <td>Athens</td>\n",
              "      <td>Bombing/Explosion</td>\n",
              "      <td>Government (Diplomatic)</td>\n",
              "      <td>Embassy/Consulate</td>\n",
              "      <td>Unknown</td>\n",
              "    </tr>\n",
              "    <tr>\n",
              "      <th>4</th>\n",
              "      <td>1970</td>\n",
              "      <td>1</td>\n",
              "      <td>0</td>\n",
              "      <td>Japan</td>\n",
              "      <td>East Asia</td>\n",
              "      <td>Fukouka</td>\n",
              "      <td>Fukouka</td>\n",
              "      <td>Facility/Infrastructure Attack</td>\n",
              "      <td>Government (Diplomatic)</td>\n",
              "      <td>Embassy/Consulate</td>\n",
              "      <td>Unknown</td>\n",
              "    </tr>\n",
              "    <tr>\n",
              "      <th>...</th>\n",
              "      <td>...</td>\n",
              "      <td>...</td>\n",
              "      <td>...</td>\n",
              "      <td>...</td>\n",
              "      <td>...</td>\n",
              "      <td>...</td>\n",
              "      <td>...</td>\n",
              "      <td>...</td>\n",
              "      <td>...</td>\n",
              "      <td>...</td>\n",
              "      <td>...</td>\n",
              "    </tr>\n",
              "    <tr>\n",
              "      <th>181686</th>\n",
              "      <td>2017</td>\n",
              "      <td>12</td>\n",
              "      <td>31</td>\n",
              "      <td>Somalia</td>\n",
              "      <td>Sub-Saharan Africa</td>\n",
              "      <td>Middle Shebelle</td>\n",
              "      <td>Ceelka Geelow</td>\n",
              "      <td>Armed Assault</td>\n",
              "      <td>Military</td>\n",
              "      <td>Military Checkpoint</td>\n",
              "      <td>Al-Shabaab</td>\n",
              "    </tr>\n",
              "    <tr>\n",
              "      <th>181687</th>\n",
              "      <td>2017</td>\n",
              "      <td>12</td>\n",
              "      <td>31</td>\n",
              "      <td>Syria</td>\n",
              "      <td>Middle East &amp; North Africa</td>\n",
              "      <td>Lattakia</td>\n",
              "      <td>Jableh</td>\n",
              "      <td>Bombing/Explosion</td>\n",
              "      <td>Military</td>\n",
              "      <td>Military Barracks/Base/Headquarters/Checkpost</td>\n",
              "      <td>Muslim extremists</td>\n",
              "    </tr>\n",
              "    <tr>\n",
              "      <th>181688</th>\n",
              "      <td>2017</td>\n",
              "      <td>12</td>\n",
              "      <td>31</td>\n",
              "      <td>Philippines</td>\n",
              "      <td>Southeast Asia</td>\n",
              "      <td>Maguindanao</td>\n",
              "      <td>Kubentog</td>\n",
              "      <td>Facility/Infrastructure Attack</td>\n",
              "      <td>Private Citizens &amp; Property</td>\n",
              "      <td>House/Apartment/Residence</td>\n",
              "      <td>Bangsamoro Islamic Freedom Movement (BIFM)</td>\n",
              "    </tr>\n",
              "    <tr>\n",
              "      <th>181689</th>\n",
              "      <td>2017</td>\n",
              "      <td>12</td>\n",
              "      <td>31</td>\n",
              "      <td>India</td>\n",
              "      <td>South Asia</td>\n",
              "      <td>Manipur</td>\n",
              "      <td>Imphal</td>\n",
              "      <td>Bombing/Explosion</td>\n",
              "      <td>Government (General)</td>\n",
              "      <td>Government Building/Facility/Office</td>\n",
              "      <td>Unknown</td>\n",
              "    </tr>\n",
              "    <tr>\n",
              "      <th>181690</th>\n",
              "      <td>2017</td>\n",
              "      <td>12</td>\n",
              "      <td>31</td>\n",
              "      <td>Philippines</td>\n",
              "      <td>Southeast Asia</td>\n",
              "      <td>Maguindanao</td>\n",
              "      <td>Cotabato City</td>\n",
              "      <td>Bombing/Explosion</td>\n",
              "      <td>Unknown</td>\n",
              "      <td>others</td>\n",
              "      <td>Unknown</td>\n",
              "    </tr>\n",
              "  </tbody>\n",
              "</table>\n",
              "<p>181691 rows × 11 columns</p>\n",
              "</div>\n",
              "      <button class=\"colab-df-convert\" onclick=\"convertToInteractive('df-b1efb9af-99c9-48d0-9369-f0bb8b03850a')\"\n",
              "              title=\"Convert this dataframe to an interactive table.\"\n",
              "              style=\"display:none;\">\n",
              "        \n",
              "  <svg xmlns=\"http://www.w3.org/2000/svg\" height=\"24px\"viewBox=\"0 0 24 24\"\n",
              "       width=\"24px\">\n",
              "    <path d=\"M0 0h24v24H0V0z\" fill=\"none\"/>\n",
              "    <path d=\"M18.56 5.44l.94 2.06.94-2.06 2.06-.94-2.06-.94-.94-2.06-.94 2.06-2.06.94zm-11 1L8.5 8.5l.94-2.06 2.06-.94-2.06-.94L8.5 2.5l-.94 2.06-2.06.94zm10 10l.94 2.06.94-2.06 2.06-.94-2.06-.94-.94-2.06-.94 2.06-2.06.94z\"/><path d=\"M17.41 7.96l-1.37-1.37c-.4-.4-.92-.59-1.43-.59-.52 0-1.04.2-1.43.59L10.3 9.45l-7.72 7.72c-.78.78-.78 2.05 0 2.83L4 21.41c.39.39.9.59 1.41.59.51 0 1.02-.2 1.41-.59l7.78-7.78 2.81-2.81c.8-.78.8-2.07 0-2.86zM5.41 20L4 18.59l7.72-7.72 1.47 1.35L5.41 20z\"/>\n",
              "  </svg>\n",
              "      </button>\n",
              "      \n",
              "  <style>\n",
              "    .colab-df-container {\n",
              "      display:flex;\n",
              "      flex-wrap:wrap;\n",
              "      gap: 12px;\n",
              "    }\n",
              "\n",
              "    .colab-df-convert {\n",
              "      background-color: #E8F0FE;\n",
              "      border: none;\n",
              "      border-radius: 50%;\n",
              "      cursor: pointer;\n",
              "      display: none;\n",
              "      fill: #1967D2;\n",
              "      height: 32px;\n",
              "      padding: 0 0 0 0;\n",
              "      width: 32px;\n",
              "    }\n",
              "\n",
              "    .colab-df-convert:hover {\n",
              "      background-color: #E2EBFA;\n",
              "      box-shadow: 0px 1px 2px rgba(60, 64, 67, 0.3), 0px 1px 3px 1px rgba(60, 64, 67, 0.15);\n",
              "      fill: #174EA6;\n",
              "    }\n",
              "\n",
              "    [theme=dark] .colab-df-convert {\n",
              "      background-color: #3B4455;\n",
              "      fill: #D2E3FC;\n",
              "    }\n",
              "\n",
              "    [theme=dark] .colab-df-convert:hover {\n",
              "      background-color: #434B5C;\n",
              "      box-shadow: 0px 1px 3px 1px rgba(0, 0, 0, 0.15);\n",
              "      filter: drop-shadow(0px 1px 2px rgba(0, 0, 0, 0.3));\n",
              "      fill: #FFFFFF;\n",
              "    }\n",
              "  </style>\n",
              "\n",
              "      <script>\n",
              "        const buttonEl =\n",
              "          document.querySelector('#df-b1efb9af-99c9-48d0-9369-f0bb8b03850a button.colab-df-convert');\n",
              "        buttonEl.style.display =\n",
              "          google.colab.kernel.accessAllowed ? 'block' : 'none';\n",
              "\n",
              "        async function convertToInteractive(key) {\n",
              "          const element = document.querySelector('#df-b1efb9af-99c9-48d0-9369-f0bb8b03850a');\n",
              "          const dataTable =\n",
              "            await google.colab.kernel.invokeFunction('convertToInteractive',\n",
              "                                                     [key], {});\n",
              "          if (!dataTable) return;\n",
              "\n",
              "          const docLinkHtml = 'Like what you see? Visit the ' +\n",
              "            '<a target=\"_blank\" href=https://colab.research.google.com/notebooks/data_table.ipynb>data table notebook</a>'\n",
              "            + ' to learn more about interactive tables.';\n",
              "          element.innerHTML = '';\n",
              "          dataTable['output_type'] = 'display_data';\n",
              "          await google.colab.output.renderOutput(dataTable, element);\n",
              "          const docLink = document.createElement('div');\n",
              "          docLink.innerHTML = docLinkHtml;\n",
              "          element.appendChild(docLink);\n",
              "        }\n",
              "      </script>\n",
              "    </div>\n",
              "  </div>\n",
              "  "
            ]
          },
          "metadata": {},
          "execution_count": 14
        }
      ]
    },
    {
      "cell_type": "code",
      "source": [
        "#Now view the shape\n",
        "terr_data.shape"
      ],
      "metadata": {
        "colab": {
          "base_uri": "https://localhost:8080/"
        },
        "id": "LUY1V4tZ9eyH",
        "outputId": "85a24148-7c94-4599-b96b-dcbdb10be764"
      },
      "execution_count": 15,
      "outputs": [
        {
          "output_type": "execute_result",
          "data": {
            "text/plain": [
              "(181691, 11)"
            ]
          },
          "metadata": {},
          "execution_count": 15
        }
      ]
    },
    {
      "cell_type": "markdown",
      "source": [
        "Now there are only 11 columns and 181691 rows"
      ],
      "metadata": {
        "id": "AUteUo0aFpys"
      }
    },
    {
      "cell_type": "code",
      "source": [
        "#Check for null values\n",
        "terr_data.isnull().sum()"
      ],
      "metadata": {
        "colab": {
          "base_uri": "https://localhost:8080/"
        },
        "id": "zGSjC-33939T",
        "outputId": "aa3b40ef-830d-4d0c-a15d-85cdee2ac338"
      },
      "execution_count": 16,
      "outputs": [
        {
          "output_type": "execute_result",
          "data": {
            "text/plain": [
              "Year              0\n",
              "Month             0\n",
              "Day               0\n",
              "Country           0\n",
              "Region            0\n",
              "State             0\n",
              "City              0\n",
              "Attack_type       0\n",
              "Target_type       0\n",
              "Target_subtype    0\n",
              "Gang_name         0\n",
              "dtype: int64"
            ]
          },
          "metadata": {},
          "execution_count": 16
        }
      ]
    },
    {
      "cell_type": "markdown",
      "source": [
        "There are no null values over the entire data"
      ],
      "metadata": {
        "id": "C62lxlA1F1Jx"
      }
    },
    {
      "cell_type": "code",
      "source": [
        "#View top 10 rows of data\n",
        "terr_data.head(10)"
      ],
      "metadata": {
        "colab": {
          "base_uri": "https://localhost:8080/",
          "height": 546
        },
        "id": "OEDmklulF9xg",
        "outputId": "468d08e0-af3d-46e4-bb96-628b7a7d90bc"
      },
      "execution_count": 17,
      "outputs": [
        {
          "output_type": "execute_result",
          "data": {
            "text/plain": [
              "   Year  Month  Day             Country                       Region  \\\n",
              "0  1970      7    2  Dominican Republic  Central America & Caribbean   \n",
              "1  1970      0    0              Mexico                North America   \n",
              "2  1970      1    0         Philippines               Southeast Asia   \n",
              "3  1970      1    0              Greece               Western Europe   \n",
              "4  1970      1    0               Japan                    East Asia   \n",
              "5  1970      1    1       United States                North America   \n",
              "6  1970      1    2             Uruguay                South America   \n",
              "7  1970      1    2       United States                North America   \n",
              "8  1970      1    2       United States                North America   \n",
              "9  1970      1    3       United States                North America   \n",
              "\n",
              "        State           City                     Attack_type  \\\n",
              "0     Unknown  Santo Domingo                   Assassination   \n",
              "1     Federal    Mexico city     Hostage Taking (Kidnapping)   \n",
              "2      Tarlac        Unknown                   Assassination   \n",
              "3      Attica         Athens               Bombing/Explosion   \n",
              "4     Fukouka        Fukouka  Facility/Infrastructure Attack   \n",
              "5    Illinois          Cairo                   Armed Assault   \n",
              "6  Montevideo     Montevideo                   Assassination   \n",
              "7  California        Oakland               Bombing/Explosion   \n",
              "8   Wisconsin        Madison  Facility/Infrastructure Attack   \n",
              "9   Wisconsin        Madison  Facility/Infrastructure Attack   \n",
              "\n",
              "                   Target_type  \\\n",
              "0  Private Citizens & Property   \n",
              "1      Government (Diplomatic)   \n",
              "2          Journalists & Media   \n",
              "3      Government (Diplomatic)   \n",
              "4      Government (Diplomatic)   \n",
              "5                       Police   \n",
              "6                       Police   \n",
              "7                    Utilities   \n",
              "8                     Military   \n",
              "9         Government (General)   \n",
              "\n",
              "                                      Target_subtype  \\\n",
              "0                                     Named Civilian   \n",
              "1  Diplomatic Personnel (outside of embassy, cons...   \n",
              "2                    Radio Journalist/Staff/Facility   \n",
              "3                                  Embassy/Consulate   \n",
              "4                                  Embassy/Consulate   \n",
              "5    Police Building (headquarters, station, school)   \n",
              "6                    Police Security Forces/Officers   \n",
              "7                                        Electricity   \n",
              "8                Military Recruiting Station/Academy   \n",
              "9                Government Building/Facility/Office   \n",
              "\n",
              "                            Gang_name  \n",
              "0                              MANO-D  \n",
              "1  23rd of September Communist League  \n",
              "2                             Unknown  \n",
              "3                             Unknown  \n",
              "4                             Unknown  \n",
              "5                  Black Nationalists  \n",
              "6                 Tupamaros (Uruguay)  \n",
              "7                             Unknown  \n",
              "8                     New Year's Gang  \n",
              "9                     New Year's Gang  "
            ],
            "text/html": [
              "\n",
              "  <div id=\"df-99e7e798-4a55-489f-b972-ce18fb905072\">\n",
              "    <div class=\"colab-df-container\">\n",
              "      <div>\n",
              "<style scoped>\n",
              "    .dataframe tbody tr th:only-of-type {\n",
              "        vertical-align: middle;\n",
              "    }\n",
              "\n",
              "    .dataframe tbody tr th {\n",
              "        vertical-align: top;\n",
              "    }\n",
              "\n",
              "    .dataframe thead th {\n",
              "        text-align: right;\n",
              "    }\n",
              "</style>\n",
              "<table border=\"1\" class=\"dataframe\">\n",
              "  <thead>\n",
              "    <tr style=\"text-align: right;\">\n",
              "      <th></th>\n",
              "      <th>Year</th>\n",
              "      <th>Month</th>\n",
              "      <th>Day</th>\n",
              "      <th>Country</th>\n",
              "      <th>Region</th>\n",
              "      <th>State</th>\n",
              "      <th>City</th>\n",
              "      <th>Attack_type</th>\n",
              "      <th>Target_type</th>\n",
              "      <th>Target_subtype</th>\n",
              "      <th>Gang_name</th>\n",
              "    </tr>\n",
              "  </thead>\n",
              "  <tbody>\n",
              "    <tr>\n",
              "      <th>0</th>\n",
              "      <td>1970</td>\n",
              "      <td>7</td>\n",
              "      <td>2</td>\n",
              "      <td>Dominican Republic</td>\n",
              "      <td>Central America &amp; Caribbean</td>\n",
              "      <td>Unknown</td>\n",
              "      <td>Santo Domingo</td>\n",
              "      <td>Assassination</td>\n",
              "      <td>Private Citizens &amp; Property</td>\n",
              "      <td>Named Civilian</td>\n",
              "      <td>MANO-D</td>\n",
              "    </tr>\n",
              "    <tr>\n",
              "      <th>1</th>\n",
              "      <td>1970</td>\n",
              "      <td>0</td>\n",
              "      <td>0</td>\n",
              "      <td>Mexico</td>\n",
              "      <td>North America</td>\n",
              "      <td>Federal</td>\n",
              "      <td>Mexico city</td>\n",
              "      <td>Hostage Taking (Kidnapping)</td>\n",
              "      <td>Government (Diplomatic)</td>\n",
              "      <td>Diplomatic Personnel (outside of embassy, cons...</td>\n",
              "      <td>23rd of September Communist League</td>\n",
              "    </tr>\n",
              "    <tr>\n",
              "      <th>2</th>\n",
              "      <td>1970</td>\n",
              "      <td>1</td>\n",
              "      <td>0</td>\n",
              "      <td>Philippines</td>\n",
              "      <td>Southeast Asia</td>\n",
              "      <td>Tarlac</td>\n",
              "      <td>Unknown</td>\n",
              "      <td>Assassination</td>\n",
              "      <td>Journalists &amp; Media</td>\n",
              "      <td>Radio Journalist/Staff/Facility</td>\n",
              "      <td>Unknown</td>\n",
              "    </tr>\n",
              "    <tr>\n",
              "      <th>3</th>\n",
              "      <td>1970</td>\n",
              "      <td>1</td>\n",
              "      <td>0</td>\n",
              "      <td>Greece</td>\n",
              "      <td>Western Europe</td>\n",
              "      <td>Attica</td>\n",
              "      <td>Athens</td>\n",
              "      <td>Bombing/Explosion</td>\n",
              "      <td>Government (Diplomatic)</td>\n",
              "      <td>Embassy/Consulate</td>\n",
              "      <td>Unknown</td>\n",
              "    </tr>\n",
              "    <tr>\n",
              "      <th>4</th>\n",
              "      <td>1970</td>\n",
              "      <td>1</td>\n",
              "      <td>0</td>\n",
              "      <td>Japan</td>\n",
              "      <td>East Asia</td>\n",
              "      <td>Fukouka</td>\n",
              "      <td>Fukouka</td>\n",
              "      <td>Facility/Infrastructure Attack</td>\n",
              "      <td>Government (Diplomatic)</td>\n",
              "      <td>Embassy/Consulate</td>\n",
              "      <td>Unknown</td>\n",
              "    </tr>\n",
              "    <tr>\n",
              "      <th>5</th>\n",
              "      <td>1970</td>\n",
              "      <td>1</td>\n",
              "      <td>1</td>\n",
              "      <td>United States</td>\n",
              "      <td>North America</td>\n",
              "      <td>Illinois</td>\n",
              "      <td>Cairo</td>\n",
              "      <td>Armed Assault</td>\n",
              "      <td>Police</td>\n",
              "      <td>Police Building (headquarters, station, school)</td>\n",
              "      <td>Black Nationalists</td>\n",
              "    </tr>\n",
              "    <tr>\n",
              "      <th>6</th>\n",
              "      <td>1970</td>\n",
              "      <td>1</td>\n",
              "      <td>2</td>\n",
              "      <td>Uruguay</td>\n",
              "      <td>South America</td>\n",
              "      <td>Montevideo</td>\n",
              "      <td>Montevideo</td>\n",
              "      <td>Assassination</td>\n",
              "      <td>Police</td>\n",
              "      <td>Police Security Forces/Officers</td>\n",
              "      <td>Tupamaros (Uruguay)</td>\n",
              "    </tr>\n",
              "    <tr>\n",
              "      <th>7</th>\n",
              "      <td>1970</td>\n",
              "      <td>1</td>\n",
              "      <td>2</td>\n",
              "      <td>United States</td>\n",
              "      <td>North America</td>\n",
              "      <td>California</td>\n",
              "      <td>Oakland</td>\n",
              "      <td>Bombing/Explosion</td>\n",
              "      <td>Utilities</td>\n",
              "      <td>Electricity</td>\n",
              "      <td>Unknown</td>\n",
              "    </tr>\n",
              "    <tr>\n",
              "      <th>8</th>\n",
              "      <td>1970</td>\n",
              "      <td>1</td>\n",
              "      <td>2</td>\n",
              "      <td>United States</td>\n",
              "      <td>North America</td>\n",
              "      <td>Wisconsin</td>\n",
              "      <td>Madison</td>\n",
              "      <td>Facility/Infrastructure Attack</td>\n",
              "      <td>Military</td>\n",
              "      <td>Military Recruiting Station/Academy</td>\n",
              "      <td>New Year's Gang</td>\n",
              "    </tr>\n",
              "    <tr>\n",
              "      <th>9</th>\n",
              "      <td>1970</td>\n",
              "      <td>1</td>\n",
              "      <td>3</td>\n",
              "      <td>United States</td>\n",
              "      <td>North America</td>\n",
              "      <td>Wisconsin</td>\n",
              "      <td>Madison</td>\n",
              "      <td>Facility/Infrastructure Attack</td>\n",
              "      <td>Government (General)</td>\n",
              "      <td>Government Building/Facility/Office</td>\n",
              "      <td>New Year's Gang</td>\n",
              "    </tr>\n",
              "  </tbody>\n",
              "</table>\n",
              "</div>\n",
              "      <button class=\"colab-df-convert\" onclick=\"convertToInteractive('df-99e7e798-4a55-489f-b972-ce18fb905072')\"\n",
              "              title=\"Convert this dataframe to an interactive table.\"\n",
              "              style=\"display:none;\">\n",
              "        \n",
              "  <svg xmlns=\"http://www.w3.org/2000/svg\" height=\"24px\"viewBox=\"0 0 24 24\"\n",
              "       width=\"24px\">\n",
              "    <path d=\"M0 0h24v24H0V0z\" fill=\"none\"/>\n",
              "    <path d=\"M18.56 5.44l.94 2.06.94-2.06 2.06-.94-2.06-.94-.94-2.06-.94 2.06-2.06.94zm-11 1L8.5 8.5l.94-2.06 2.06-.94-2.06-.94L8.5 2.5l-.94 2.06-2.06.94zm10 10l.94 2.06.94-2.06 2.06-.94-2.06-.94-.94-2.06-.94 2.06-2.06.94z\"/><path d=\"M17.41 7.96l-1.37-1.37c-.4-.4-.92-.59-1.43-.59-.52 0-1.04.2-1.43.59L10.3 9.45l-7.72 7.72c-.78.78-.78 2.05 0 2.83L4 21.41c.39.39.9.59 1.41.59.51 0 1.02-.2 1.41-.59l7.78-7.78 2.81-2.81c.8-.78.8-2.07 0-2.86zM5.41 20L4 18.59l7.72-7.72 1.47 1.35L5.41 20z\"/>\n",
              "  </svg>\n",
              "      </button>\n",
              "      \n",
              "  <style>\n",
              "    .colab-df-container {\n",
              "      display:flex;\n",
              "      flex-wrap:wrap;\n",
              "      gap: 12px;\n",
              "    }\n",
              "\n",
              "    .colab-df-convert {\n",
              "      background-color: #E8F0FE;\n",
              "      border: none;\n",
              "      border-radius: 50%;\n",
              "      cursor: pointer;\n",
              "      display: none;\n",
              "      fill: #1967D2;\n",
              "      height: 32px;\n",
              "      padding: 0 0 0 0;\n",
              "      width: 32px;\n",
              "    }\n",
              "\n",
              "    .colab-df-convert:hover {\n",
              "      background-color: #E2EBFA;\n",
              "      box-shadow: 0px 1px 2px rgba(60, 64, 67, 0.3), 0px 1px 3px 1px rgba(60, 64, 67, 0.15);\n",
              "      fill: #174EA6;\n",
              "    }\n",
              "\n",
              "    [theme=dark] .colab-df-convert {\n",
              "      background-color: #3B4455;\n",
              "      fill: #D2E3FC;\n",
              "    }\n",
              "\n",
              "    [theme=dark] .colab-df-convert:hover {\n",
              "      background-color: #434B5C;\n",
              "      box-shadow: 0px 1px 3px 1px rgba(0, 0, 0, 0.15);\n",
              "      filter: drop-shadow(0px 1px 2px rgba(0, 0, 0, 0.3));\n",
              "      fill: #FFFFFF;\n",
              "    }\n",
              "  </style>\n",
              "\n",
              "      <script>\n",
              "        const buttonEl =\n",
              "          document.querySelector('#df-99e7e798-4a55-489f-b972-ce18fb905072 button.colab-df-convert');\n",
              "        buttonEl.style.display =\n",
              "          google.colab.kernel.accessAllowed ? 'block' : 'none';\n",
              "\n",
              "        async function convertToInteractive(key) {\n",
              "          const element = document.querySelector('#df-99e7e798-4a55-489f-b972-ce18fb905072');\n",
              "          const dataTable =\n",
              "            await google.colab.kernel.invokeFunction('convertToInteractive',\n",
              "                                                     [key], {});\n",
              "          if (!dataTable) return;\n",
              "\n",
              "          const docLinkHtml = 'Like what you see? Visit the ' +\n",
              "            '<a target=\"_blank\" href=https://colab.research.google.com/notebooks/data_table.ipynb>data table notebook</a>'\n",
              "            + ' to learn more about interactive tables.';\n",
              "          element.innerHTML = '';\n",
              "          dataTable['output_type'] = 'display_data';\n",
              "          await google.colab.output.renderOutput(dataTable, element);\n",
              "          const docLink = document.createElement('div');\n",
              "          docLink.innerHTML = docLinkHtml;\n",
              "          element.appendChild(docLink);\n",
              "        }\n",
              "      </script>\n",
              "    </div>\n",
              "  </div>\n",
              "  "
            ]
          },
          "metadata": {},
          "execution_count": 17
        }
      ]
    },
    {
      "cell_type": "code",
      "source": [
        "#View unique column names\n",
        "terr_data.columns.unique()"
      ],
      "metadata": {
        "colab": {
          "base_uri": "https://localhost:8080/"
        },
        "id": "Avaon__IGG9t",
        "outputId": "728ba582-8c33-4881-e4fb-9a8efcb146e3"
      },
      "execution_count": 18,
      "outputs": [
        {
          "output_type": "execute_result",
          "data": {
            "text/plain": [
              "Index(['Year', 'Month', 'Day', 'Country', 'Region', 'State', 'City',\n",
              "       'Attack_type', 'Target_type', 'Target_subtype', 'Gang_name'],\n",
              "      dtype='object')"
            ]
          },
          "metadata": {},
          "execution_count": 18
        }
      ]
    },
    {
      "cell_type": "code",
      "source": [
        "#Number of columns in the data set\n",
        "terr_data.columns.unique()\n",
        "Total_contries=list(terr_data['Country'].unique())\n",
        "Total_contries=len(Total_contries)\n",
        "print(\"Total %d Countries were noted in the data\"%Total_contries)"
      ],
      "metadata": {
        "colab": {
          "base_uri": "https://localhost:8080/"
        },
        "id": "OlwD9-8sGSrs",
        "outputId": "222905b6-d121-494a-ed27-6563babd59e8"
      },
      "execution_count": 19,
      "outputs": [
        {
          "output_type": "stream",
          "name": "stdout",
          "text": [
            "Total 205 Countries were noted in the data\n"
          ]
        }
      ]
    },
    {
      "cell_type": "code",
      "source": [
        "print(terr_data['Region'].nunique())"
      ],
      "metadata": {
        "colab": {
          "base_uri": "https://localhost:8080/"
        },
        "id": "WCrWwrjqLFIR",
        "outputId": "7ec5aa94-3012-4138-c35c-99dc7a044f78"
      },
      "execution_count": 20,
      "outputs": [
        {
          "output_type": "stream",
          "name": "stdout",
          "text": [
            "12\n"
          ]
        }
      ]
    },
    {
      "cell_type": "code",
      "source": [
        "print(terr_data['Attack_type'].unique())\n",
        "print(terr_data['Target_type'].unique())\n",
        "print(terr_data['Gang_name'].unique())\n",
        "print(terr_data['Gang_name'].nunique())"
      ],
      "metadata": {
        "colab": {
          "base_uri": "https://localhost:8080/"
        },
        "id": "PoEjrmsVLSaf",
        "outputId": "f51569ca-b4ab-49f3-96bd-a7c87e042c7b"
      },
      "execution_count": 21,
      "outputs": [
        {
          "output_type": "stream",
          "name": "stdout",
          "text": [
            "['Assassination' 'Hostage Taking (Kidnapping)' 'Bombing/Explosion'\n",
            " 'Facility/Infrastructure Attack' 'Armed Assault' 'Hijacking' 'Unknown'\n",
            " 'Unarmed Assault' 'Hostage Taking (Barricade Incident)']\n",
            "['Private Citizens & Property' 'Government (Diplomatic)'\n",
            " 'Journalists & Media' 'Police' 'Utilities' 'Military'\n",
            " 'Government (General)' 'Airports & Aircraft' 'Business'\n",
            " 'Educational Institution' 'Violent Political Party'\n",
            " 'Religious Figures/Institutions' 'Unknown' 'Transportation' 'Tourists'\n",
            " 'NGO' 'Telecommunication' 'Food or Water Supply'\n",
            " 'Terrorists/Non-State Militia' 'Other' 'Maritime' 'Abortion Related']\n",
            "['MANO-D' '23rd of September Communist League' 'Unknown' ...\n",
            " 'Fatoni Warriors' 'Minorities of Metropolitan Attacks'\n",
            " 'Baloch Republican Party']\n",
            "3537\n"
          ]
        }
      ]
    },
    {
      "cell_type": "markdown",
      "source": [
        "There are total 3537 gangs in this dataset"
      ],
      "metadata": {
        "id": "I47eQ1GkMHiP"
      }
    },
    {
      "cell_type": "code",
      "source": [
        "#view the statistical description of the dataset\n",
        "terr_data.describe()"
      ],
      "metadata": {
        "colab": {
          "base_uri": "https://localhost:8080/",
          "height": 300
        },
        "id": "Sgau-MNLMP7e",
        "outputId": "f468a1a6-a8be-406b-87e6-b24245514a1b"
      },
      "execution_count": 22,
      "outputs": [
        {
          "output_type": "execute_result",
          "data": {
            "text/plain": [
              "                Year          Month            Day\n",
              "count  181691.000000  181691.000000  181691.000000\n",
              "mean     2002.638997       6.467277      15.505644\n",
              "std        13.259430       3.388303       8.814045\n",
              "min      1970.000000       0.000000       0.000000\n",
              "25%      1991.000000       4.000000       8.000000\n",
              "50%      2009.000000       6.000000      15.000000\n",
              "75%      2014.000000       9.000000      23.000000\n",
              "max      2017.000000      12.000000      31.000000"
            ],
            "text/html": [
              "\n",
              "  <div id=\"df-4a0a6503-fa3f-4838-9b35-6574ceb5b78b\">\n",
              "    <div class=\"colab-df-container\">\n",
              "      <div>\n",
              "<style scoped>\n",
              "    .dataframe tbody tr th:only-of-type {\n",
              "        vertical-align: middle;\n",
              "    }\n",
              "\n",
              "    .dataframe tbody tr th {\n",
              "        vertical-align: top;\n",
              "    }\n",
              "\n",
              "    .dataframe thead th {\n",
              "        text-align: right;\n",
              "    }\n",
              "</style>\n",
              "<table border=\"1\" class=\"dataframe\">\n",
              "  <thead>\n",
              "    <tr style=\"text-align: right;\">\n",
              "      <th></th>\n",
              "      <th>Year</th>\n",
              "      <th>Month</th>\n",
              "      <th>Day</th>\n",
              "    </tr>\n",
              "  </thead>\n",
              "  <tbody>\n",
              "    <tr>\n",
              "      <th>count</th>\n",
              "      <td>181691.000000</td>\n",
              "      <td>181691.000000</td>\n",
              "      <td>181691.000000</td>\n",
              "    </tr>\n",
              "    <tr>\n",
              "      <th>mean</th>\n",
              "      <td>2002.638997</td>\n",
              "      <td>6.467277</td>\n",
              "      <td>15.505644</td>\n",
              "    </tr>\n",
              "    <tr>\n",
              "      <th>std</th>\n",
              "      <td>13.259430</td>\n",
              "      <td>3.388303</td>\n",
              "      <td>8.814045</td>\n",
              "    </tr>\n",
              "    <tr>\n",
              "      <th>min</th>\n",
              "      <td>1970.000000</td>\n",
              "      <td>0.000000</td>\n",
              "      <td>0.000000</td>\n",
              "    </tr>\n",
              "    <tr>\n",
              "      <th>25%</th>\n",
              "      <td>1991.000000</td>\n",
              "      <td>4.000000</td>\n",
              "      <td>8.000000</td>\n",
              "    </tr>\n",
              "    <tr>\n",
              "      <th>50%</th>\n",
              "      <td>2009.000000</td>\n",
              "      <td>6.000000</td>\n",
              "      <td>15.000000</td>\n",
              "    </tr>\n",
              "    <tr>\n",
              "      <th>75%</th>\n",
              "      <td>2014.000000</td>\n",
              "      <td>9.000000</td>\n",
              "      <td>23.000000</td>\n",
              "    </tr>\n",
              "    <tr>\n",
              "      <th>max</th>\n",
              "      <td>2017.000000</td>\n",
              "      <td>12.000000</td>\n",
              "      <td>31.000000</td>\n",
              "    </tr>\n",
              "  </tbody>\n",
              "</table>\n",
              "</div>\n",
              "      <button class=\"colab-df-convert\" onclick=\"convertToInteractive('df-4a0a6503-fa3f-4838-9b35-6574ceb5b78b')\"\n",
              "              title=\"Convert this dataframe to an interactive table.\"\n",
              "              style=\"display:none;\">\n",
              "        \n",
              "  <svg xmlns=\"http://www.w3.org/2000/svg\" height=\"24px\"viewBox=\"0 0 24 24\"\n",
              "       width=\"24px\">\n",
              "    <path d=\"M0 0h24v24H0V0z\" fill=\"none\"/>\n",
              "    <path d=\"M18.56 5.44l.94 2.06.94-2.06 2.06-.94-2.06-.94-.94-2.06-.94 2.06-2.06.94zm-11 1L8.5 8.5l.94-2.06 2.06-.94-2.06-.94L8.5 2.5l-.94 2.06-2.06.94zm10 10l.94 2.06.94-2.06 2.06-.94-2.06-.94-.94-2.06-.94 2.06-2.06.94z\"/><path d=\"M17.41 7.96l-1.37-1.37c-.4-.4-.92-.59-1.43-.59-.52 0-1.04.2-1.43.59L10.3 9.45l-7.72 7.72c-.78.78-.78 2.05 0 2.83L4 21.41c.39.39.9.59 1.41.59.51 0 1.02-.2 1.41-.59l7.78-7.78 2.81-2.81c.8-.78.8-2.07 0-2.86zM5.41 20L4 18.59l7.72-7.72 1.47 1.35L5.41 20z\"/>\n",
              "  </svg>\n",
              "      </button>\n",
              "      \n",
              "  <style>\n",
              "    .colab-df-container {\n",
              "      display:flex;\n",
              "      flex-wrap:wrap;\n",
              "      gap: 12px;\n",
              "    }\n",
              "\n",
              "    .colab-df-convert {\n",
              "      background-color: #E8F0FE;\n",
              "      border: none;\n",
              "      border-radius: 50%;\n",
              "      cursor: pointer;\n",
              "      display: none;\n",
              "      fill: #1967D2;\n",
              "      height: 32px;\n",
              "      padding: 0 0 0 0;\n",
              "      width: 32px;\n",
              "    }\n",
              "\n",
              "    .colab-df-convert:hover {\n",
              "      background-color: #E2EBFA;\n",
              "      box-shadow: 0px 1px 2px rgba(60, 64, 67, 0.3), 0px 1px 3px 1px rgba(60, 64, 67, 0.15);\n",
              "      fill: #174EA6;\n",
              "    }\n",
              "\n",
              "    [theme=dark] .colab-df-convert {\n",
              "      background-color: #3B4455;\n",
              "      fill: #D2E3FC;\n",
              "    }\n",
              "\n",
              "    [theme=dark] .colab-df-convert:hover {\n",
              "      background-color: #434B5C;\n",
              "      box-shadow: 0px 1px 3px 1px rgba(0, 0, 0, 0.15);\n",
              "      filter: drop-shadow(0px 1px 2px rgba(0, 0, 0, 0.3));\n",
              "      fill: #FFFFFF;\n",
              "    }\n",
              "  </style>\n",
              "\n",
              "      <script>\n",
              "        const buttonEl =\n",
              "          document.querySelector('#df-4a0a6503-fa3f-4838-9b35-6574ceb5b78b button.colab-df-convert');\n",
              "        buttonEl.style.display =\n",
              "          google.colab.kernel.accessAllowed ? 'block' : 'none';\n",
              "\n",
              "        async function convertToInteractive(key) {\n",
              "          const element = document.querySelector('#df-4a0a6503-fa3f-4838-9b35-6574ceb5b78b');\n",
              "          const dataTable =\n",
              "            await google.colab.kernel.invokeFunction('convertToInteractive',\n",
              "                                                     [key], {});\n",
              "          if (!dataTable) return;\n",
              "\n",
              "          const docLinkHtml = 'Like what you see? Visit the ' +\n",
              "            '<a target=\"_blank\" href=https://colab.research.google.com/notebooks/data_table.ipynb>data table notebook</a>'\n",
              "            + ' to learn more about interactive tables.';\n",
              "          element.innerHTML = '';\n",
              "          dataTable['output_type'] = 'display_data';\n",
              "          await google.colab.output.renderOutput(dataTable, element);\n",
              "          const docLink = document.createElement('div');\n",
              "          docLink.innerHTML = docLinkHtml;\n",
              "          element.appendChild(docLink);\n",
              "        }\n",
              "      </script>\n",
              "    </div>\n",
              "  </div>\n",
              "  "
            ]
          },
          "metadata": {},
          "execution_count": 22
        }
      ]
    },
    {
      "cell_type": "code",
      "source": [
        "#View top 10 contries\n",
        "terr_data['Country'].value_counts().head(10)\n",
        "#There were top 10 affected contires"
      ],
      "metadata": {
        "colab": {
          "base_uri": "https://localhost:8080/"
        },
        "id": "u0_aqFYMVua4",
        "outputId": "75efb96a-ab22-4713-fa8d-6155cd0c2921"
      },
      "execution_count": 23,
      "outputs": [
        {
          "output_type": "execute_result",
          "data": {
            "text/plain": [
              "Iraq              24636\n",
              "Pakistan          14368\n",
              "Afghanistan       12731\n",
              "India             11960\n",
              "Colombia           8306\n",
              "Philippines        6908\n",
              "Peru               6096\n",
              "El Salvador        5320\n",
              "United Kingdom     5235\n",
              "Turkey             4292\n",
              "Name: Country, dtype: int64"
            ]
          },
          "metadata": {},
          "execution_count": 23
        }
      ]
    },
    {
      "cell_type": "code",
      "source": [
        "#Top 10 affected reasion\n",
        "terr_data['Region'].value_counts().head(10)"
      ],
      "metadata": {
        "colab": {
          "base_uri": "https://localhost:8080/"
        },
        "id": "WM17AJ-TWC1O",
        "outputId": "67cd1d7c-82e1-496c-ea07-38d7f3ff7b9e"
      },
      "execution_count": 24,
      "outputs": [
        {
          "output_type": "execute_result",
          "data": {
            "text/plain": [
              "Middle East & North Africa     50474\n",
              "South Asia                     44974\n",
              "South America                  18978\n",
              "Sub-Saharan Africa             17550\n",
              "Western Europe                 16639\n",
              "Southeast Asia                 12485\n",
              "Central America & Caribbean    10344\n",
              "Eastern Europe                  5144\n",
              "North America                   3456\n",
              "East Asia                        802\n",
              "Name: Region, dtype: int64"
            ]
          },
          "metadata": {},
          "execution_count": 24
        }
      ]
    },
    {
      "cell_type": "code",
      "source": [
        "#Top 10 affected states\n",
        "terr_data['State'].value_counts().head(10)"
      ],
      "metadata": {
        "colab": {
          "base_uri": "https://localhost:8080/"
        },
        "id": "ngFySuIYWLKj",
        "outputId": "29c06f52-605c-45cf-ff3d-36e8577f11a7"
      },
      "execution_count": 25,
      "outputs": [
        {
          "output_type": "execute_result",
          "data": {
            "text/plain": [
              "Baghdad               7645\n",
              "Unknown               4711\n",
              "Northern Ireland      4498\n",
              "Balochistan           3710\n",
              "Saladin               3411\n",
              "Al Anbar              3299\n",
              "Nineveh               3241\n",
              "Sindh                 3206\n",
              "Khyber Pakhtunkhwa    3084\n",
              "Diyala                3041\n",
              "Name: State, dtype: int64"
            ]
          },
          "metadata": {},
          "execution_count": 25
        }
      ]
    },
    {
      "cell_type": "code",
      "source": [
        "#Top 10 Target subtype\n",
        "terr_data['Target_subtype'].value_counts().head(10)"
      ],
      "metadata": {
        "colab": {
          "base_uri": "https://localhost:8080/"
        },
        "id": "kgmiTjakWkMP",
        "outputId": "2d10b949-0472-4eaf-a41a-128d073a86b1"
      },
      "execution_count": 26,
      "outputs": [
        {
          "output_type": "execute_result",
          "data": {
            "text/plain": [
              "Unnamed Civilian/Unspecified                               11596\n",
              "Police Security Forces/Officers                            11178\n",
              "others                                                     10373\n",
              "Military Unit/Patrol/Convoy                                 8277\n",
              "Military Personnel (soldiers, troops, officers, forces)     7963\n",
              "Government Personnel (excluding police, military)           6610\n",
              "Village/City/Town/Suburb                                    6542\n",
              "Politician or Political Party Movement/Meeting/Rally        6306\n",
              "Police Building (headquarters, station, school)             5907\n",
              "Military Barracks/Base/Headquarters/Checkpost               5211\n",
              "Name: Target_subtype, dtype: int64"
            ]
          },
          "metadata": {},
          "execution_count": 26
        }
      ]
    },
    {
      "cell_type": "code",
      "source": [
        "#Top 10 affected City\n",
        "terr_data['City'].value_counts().head(10)"
      ],
      "metadata": {
        "colab": {
          "base_uri": "https://localhost:8080/"
        },
        "id": "CZdM_rwBW0is",
        "outputId": "e0a571b8-671b-4881-b348-55b546674313"
      },
      "execution_count": 27,
      "outputs": [
        {
          "output_type": "execute_result",
          "data": {
            "text/plain": [
              "Unknown         10209\n",
              "Baghdad          7589\n",
              "Karachi          2652\n",
              "Lima             2359\n",
              "Mosul            2265\n",
              "Belfast          2171\n",
              "Santiago         1621\n",
              "Mogadishu        1581\n",
              "San Salvador     1558\n",
              "Istanbul         1048\n",
              "Name: City, dtype: int64"
            ]
          },
          "metadata": {},
          "execution_count": 27
        }
      ]
    },
    {
      "cell_type": "code",
      "source": [
        "#Top 10 attacking modes\n",
        "terr_data['Attack_type'].value_counts().head(10)"
      ],
      "metadata": {
        "colab": {
          "base_uri": "https://localhost:8080/"
        },
        "id": "hO-QygFsXG5e",
        "outputId": "12610523-db12-4047-89c6-775e05886cdc"
      },
      "execution_count": 28,
      "outputs": [
        {
          "output_type": "execute_result",
          "data": {
            "text/plain": [
              "Bombing/Explosion                      88255\n",
              "Armed Assault                          42669\n",
              "Assassination                          19312\n",
              "Hostage Taking (Kidnapping)            11158\n",
              "Facility/Infrastructure Attack         10356\n",
              "Unknown                                 7276\n",
              "Unarmed Assault                         1015\n",
              "Hostage Taking (Barricade Incident)      991\n",
              "Hijacking                                659\n",
              "Name: Attack_type, dtype: int64"
            ]
          },
          "metadata": {},
          "execution_count": 28
        }
      ]
    },
    {
      "cell_type": "code",
      "source": [
        "#Top 10 Target to attack\n",
        "terr_data['Target_type'].value_counts().head(10)"
      ],
      "metadata": {
        "colab": {
          "base_uri": "https://localhost:8080/"
        },
        "id": "dKrdrCAKXUva",
        "outputId": "03b25c97-65bf-44ff-c8c4-31951d7540ff"
      },
      "execution_count": 29,
      "outputs": [
        {
          "output_type": "execute_result",
          "data": {
            "text/plain": [
              "Private Citizens & Property       43511\n",
              "Military                          27984\n",
              "Police                            24506\n",
              "Government (General)              21283\n",
              "Business                          20669\n",
              "Transportation                     6799\n",
              "Utilities                          6023\n",
              "Unknown                            5898\n",
              "Religious Figures/Institutions     4440\n",
              "Educational Institution            4322\n",
              "Name: Target_type, dtype: int64"
            ]
          },
          "metadata": {},
          "execution_count": 29
        }
      ]
    },
    {
      "cell_type": "code",
      "source": [
        "#Top 10 leading and most dangerious Gangs\n",
        "terr_data['Gang_name'].value_counts().head(10)"
      ],
      "metadata": {
        "colab": {
          "base_uri": "https://localhost:8080/"
        },
        "id": "HyAzBLwGXvZ2",
        "outputId": "a0eae9a9-7a12-4ae2-a9bb-d9eea4169b17"
      },
      "execution_count": 30,
      "outputs": [
        {
          "output_type": "execute_result",
          "data": {
            "text/plain": [
              "Unknown                                             82782\n",
              "Taliban                                              7478\n",
              "Islamic State of Iraq and the Levant (ISIL)          5613\n",
              "Shining Path (SL)                                    4555\n",
              "Farabundo Marti National Liberation Front (FMLN)     3351\n",
              "Al-Shabaab                                           3288\n",
              "New People's Army (NPA)                              2772\n",
              "Irish Republican Army (IRA)                          2671\n",
              "Revolutionary Armed Forces of Colombia (FARC)        2487\n",
              "Boko Haram                                           2418\n",
              "Name: Gang_name, dtype: int64"
            ]
          },
          "metadata": {},
          "execution_count": 30
        }
      ]
    },
    {
      "cell_type": "code",
      "source": [
        "#Top 10 Year where attack were most happened\n",
        "terr_data['Year'].value_counts().head(10)"
      ],
      "metadata": {
        "colab": {
          "base_uri": "https://localhost:8080/"
        },
        "id": "m0am2hTbYB3D",
        "outputId": "8bbeb01e-991d-484b-e8ec-a18e912b82ca"
      },
      "execution_count": 31,
      "outputs": [
        {
          "output_type": "execute_result",
          "data": {
            "text/plain": [
              "2014    16903\n",
              "2015    14965\n",
              "2016    13587\n",
              "2013    12036\n",
              "2017    10900\n",
              "2012     8522\n",
              "2011     5076\n",
              "1992     5071\n",
              "2010     4826\n",
              "2008     4805\n",
              "Name: Year, dtype: int64"
            ]
          },
          "metadata": {},
          "execution_count": 31
        }
      ]
    },
    {
      "cell_type": "markdown",
      "source": [
        "<B>Visualizations</B><BR>\n",
        "Now let us find some hot zones using visualizations. For thsis, we have to use matplotlib and seaborn which we have installed at the begining."
      ],
      "metadata": {
        "id": "MgI6-O-wYan4"
      }
    },
    {
      "cell_type": "code",
      "source": [
        "plt.figure(figsize=(20,5))\n",
        "plt.xticks(rotation=60)\n",
        "plt.title('Attack by Year',fontweight='bold',size=15)\n",
        "sns.countplot(x=terr_data.Year)\n",
        "plt.show()"
      ],
      "metadata": {
        "id": "02YATi_KY6-V",
        "colab": {
          "base_uri": "https://localhost:8080/",
          "height": 369
        },
        "outputId": "2fde9a59-c899-40c6-94d9-806ad30c4bb1"
      },
      "execution_count": 36,
      "outputs": [
        {
          "output_type": "display_data",
          "data": {
            "text/plain": [
              "<Figure size 1440x360 with 1 Axes>"
            ],
            "image/png": "[encoded data removed]"
          },
          "metadata": {
            "needs_background": "light"
          }
        }
      ]
    },
    {
      "cell_type": "markdown",
      "source": [
        "Attacks were more during 2014 and then in 2015. When compared to attacks from 1970 onward, the last 6 years scored a maximum. But from 2014 onward count started decreasing."
      ],
      "metadata": {
        "id": "jb7YYC5NZkUC"
      }
    },
    {
      "cell_type": "code",
      "source": [
        "plt.figure(figsize=(20,5))\n",
        "plt.title('Attack by Month',fontweight='bold',size=15)\n",
        "sns.countplot(x=terr_data.Month)\n",
        "plt.show()"
      ],
      "metadata": {
        "colab": {
          "base_uri": "https://localhost:8080/",
          "height": 352
        },
        "id": "UiJG0pTvaI77",
        "outputId": "9bf49de3-0eb9-4ef5-bdeb-0e11d6274f59"
      },
      "execution_count": 38,
      "outputs": [
        {
          "output_type": "display_data",
          "data": {
            "text/plain": [
              "<Figure size 1440x360 with 1 Axes>"
            ],
            "image/png": "[encoded data removed]"
          },
          "metadata": {
            "needs_background": "light"
          }
        }
      ]
    },
    {
      "cell_type": "markdown",
      "source": [
        "Almost every month has the same contribution"
      ],
      "metadata": {
        "id": "C2VnGnIRbipD"
      }
    },
    {
      "cell_type": "code",
      "source": [
        "plt.figure(figsize=(20,5))\n",
        "plt.title('Attack by Day',fontweight='bold',size=15)\n",
        "sns.countplot(x=terr_data.Day)\n",
        "plt.show()"
      ],
      "metadata": {
        "colab": {
          "base_uri": "https://localhost:8080/",
          "height": 352
        },
        "id": "7RmF_-SabpGA",
        "outputId": "dfe001da-f372-445b-ba57-492e583edd2d"
      },
      "execution_count": 39,
      "outputs": [
        {
          "output_type": "display_data",
          "data": {
            "text/plain": [
              "<Figure size 1440x360 with 1 Axes>"
            ],
            "image/png": "[encoded data removed]"
          },
          "metadata": {
            "needs_background": "light"
          }
        }
      ]
    },
    {
      "cell_type": "markdown",
      "source": [
        "Almost every day has the almost same number of attacks but attcks were low during 31st and high during 15th and 1st."
      ],
      "metadata": {
        "id": "EOnA8f-RbxeB"
      }
    },
    {
      "cell_type": "code",
      "source": [
        "plt.figure(figsize=(20,5))\n",
        "plt.xticks(rotation=90)\n",
        "plt.title('Attack by Country',fontweight='bold',size=15)\n",
        "sns.countplot(x=terr_data.Country)\n",
        "plt.show()"
      ],
      "metadata": {
        "colab": {
          "base_uri": "https://localhost:8080/",
          "height": 605
        },
        "id": "bHh1dvUjcKB2",
        "outputId": "071e4f03-9ca2-4dc0-9a8d-7b209c9c2320"
      },
      "execution_count": 50,
      "outputs": [
        {
          "output_type": "display_data",
          "data": {
            "text/plain": [
              "<Figure size 1440x360 with 1 Axes>"
            ],
            "image/png": "[encoded data removed]"
          },
          "metadata": {
            "needs_background": "light"
          }
        }
      ]
    },
    {
      "cell_type": "markdown",
      "source": [
        "Iraq dominates all the countries and it has the highest number of attacks and then Pakistan, Afghanistan and india follows it. Goverment should increase safety measures in these countries."
      ],
      "metadata": {
        "id": "Q2I0Hh1leKSl"
      }
    },
    {
      "cell_type": "code",
      "source": [
        "plt.figure(figsize=(20,5))\n",
        "plt.xticks(rotation=60)\n",
        "plt.title('Attack by Region',fontweight='bold',size=15)\n",
        "sns.countplot(x=terr_data.Region)\n",
        "plt.show()"
      ],
      "metadata": {
        "colab": {
          "base_uri": "https://localhost:8080/",
          "height": 545
        },
        "id": "1JSZjjQxjIwl",
        "outputId": "36fd9df4-39f2-4d50-8d72-25cf2de03b9a"
      },
      "execution_count": 53,
      "outputs": [
        {
          "output_type": "display_data",
          "data": {
            "text/plain": [
              "<Figure size 1440x360 with 1 Axes>"
            ],
            "image/png": "[encoded data removed]"
          },
          "metadata": {
            "needs_background": "light"
          }
        }
      ]
    },
    {
      "cell_type": "markdown",
      "source": [
        "The middle East and North Africa lead 1st among all the regions and then South Asia takes 2nd place"
      ],
      "metadata": {
        "id": "4Rb7mk2KjgVN"
      }
    },
    {
      "cell_type": "code",
      "source": [
        "plt.figure(figsize=(20,5))\n",
        "plt.xticks(rotation=90)\n",
        "plt.title('Target Type',fontweight='bold',size=15)\n",
        "sns.countplot(x=terr_data.Target_type)\n",
        "plt.show()"
      ],
      "metadata": {
        "colab": {
          "base_uri": "https://localhost:8080/",
          "height": 564
        },
        "id": "wGqEm3YCjvOh",
        "outputId": "d8790ffd-bd95-4cbc-bd41-77c5c02afb38"
      },
      "execution_count": 55,
      "outputs": [
        {
          "output_type": "display_data",
          "data": {
            "text/plain": [
              "<Figure size 1440x360 with 1 Axes>"
            ],
            "image/png": "[encoded data removed]"
          },
          "metadata": {
            "needs_background": "light"
          }
        }
      ]
    },
    {
      "cell_type": "markdown",
      "source": [
        "For most of the attacks, the target is private citizens and property and the next military leads."
      ],
      "metadata": {
        "id": "2N0lWao4kED1"
      }
    },
    {
      "cell_type": "code",
      "source": [
        "plt.figure(figsize=(20,5))\n",
        "plt.xticks(rotation=40)\n",
        "plt.title('Attack Type',fontweight='bold',size=15)\n",
        "sns.countplot(x=terr_data.Attack_type)\n",
        "plt.show()"
      ],
      "metadata": {
        "colab": {
          "base_uri": "https://localhost:8080/",
          "height": 531
        },
        "id": "ie_YiyD9k-vt",
        "outputId": "653ff4a7-26b7-46b4-8ebb-f0c15a8db0e7"
      },
      "execution_count": 58,
      "outputs": [
        {
          "output_type": "display_data",
          "data": {
            "text/plain": [
              "<Figure size 1440x360 with 1 Axes>"
            ],
            "image/png": "[encoded data removed]"
          },
          "metadata": {
            "needs_background": "light"
          }
        }
      ]
    },
    {
      "cell_type": "markdown",
      "source": [
        "Most of the attack were through either Bombing or Explosion"
      ],
      "metadata": {
        "id": "JGk6OvwPlPdt"
      }
    },
    {
      "cell_type": "markdown",
      "source": [
        "<B>Results of Analysis</B><Hr>\n",
        "<UL>\n",
        "<LI>Most of the attacks were attacked through explosives and then through firearms.</LI>\n",
        "<LI>Attacks were more during 2014 and then in 2015. When compared to attacks from 1970 onwards, the last 6 years scored a maximum, But from 2014 onwards count started decreasing</LI>\n",
        "<LI>Almost Every day has the same contribution but attacks were low during 31st and high during 15th and 1st</LI>\n",
        "<LI>Iraq dominates all the countries and it has the highest number of attacks and then Pakistan,Afghanistan and India follow it.</LI>\n",
        "<LI>The Middle East and North Africa leads 1st among all the region and then South Asia takes 2nd place.</LI>\n",
        "<LI>For most of the attacks, the target is Private Citizens and property and the next Military leads</LI>\n",
        "<LI>Most of the attacks were through either Bombing or Explosion.</LI>\n",
        "</UL>"
      ],
      "metadata": {
        "id": "iwbeeipTlZEn"
      }
    },
    {
      "cell_type": "markdown",
      "source": [
        "<B>Measures to be Taken to Reduce Terrorism</B><Hr>\n",
        "<UL>\n",
        "<LI>By reducing access to dangerous weapons</LI>\n",
        "<LI>Government should provide more security over countries</LI>\n",
        "<LI>Security should be strengthened across borders</LI>\n",
        "<LI>Government should take measures on increased immigration</LI>\n",
        "<LI>and many more.....</LI>\n",
        "</UL>"
      ],
      "metadata": {
        "id": "3Gpex5Ren5P6"
      }
    }
  ]
}